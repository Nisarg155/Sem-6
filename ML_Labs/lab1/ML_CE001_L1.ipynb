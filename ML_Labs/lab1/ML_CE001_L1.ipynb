{
 "cells": [
  {
   "cell_type": "code",
   "id": "initial_id",
   "metadata": {
    "collapsed": true,
    "ExecuteTime": {
     "end_time": "2024-12-09T17:53:36.750356Z",
     "start_time": "2024-12-09T17:53:36.747952Z"
    }
   },
   "source": "import numpy as np",
   "outputs": [],
   "execution_count": 29
  },
  {
   "metadata": {
    "ExecuteTime": {
     "end_time": "2024-12-09T17:53:36.799193Z",
     "start_time": "2024-12-09T17:53:36.795419Z"
    }
   },
   "cell_type": "code",
   "source": [
    "# 4x5 array\n",
    "array_4x5 = np.random.rand(4, 5)\n",
    "\n",
    "# 5x4 array\n",
    "array_5x4 = np.random.rand(5, 4)\n",
    "\n",
    "print(\"4x5 array:\")\n",
    "print(array_4x5)\n",
    "print(\"\\n5x4 array:\")\n",
    "print(array_5x4)"
   ],
   "id": "9aa5dae3a6acd4d4",
   "outputs": [
    {
     "name": "stdout",
     "output_type": "stream",
     "text": [
      "4x5 array:\n",
      "[[0.04844927 0.6255246  0.06264564 0.92089972 0.69218183]\n",
      " [0.15813175 0.82592035 0.92952801 0.29839991 0.93090497]\n",
      " [0.38378643 0.96824849 0.97226265 0.27872278 0.97193626]\n",
      " [0.13230927 0.2081097  0.83613898 0.98158    0.27599325]]\n",
      "\n",
      "5x4 array:\n",
      "[[0.32479254 0.27583722 0.41089728 0.80122833]\n",
      " [0.95023134 0.84774709 0.47686025 0.16420829]\n",
      " [0.26475161 0.92613793 0.61964609 0.68562763]\n",
      " [0.03523941 0.58171521 0.19723926 0.05367175]\n",
      " [0.46742997 0.58938138 0.09489614 0.73998355]]\n"
     ]
    }
   ],
   "execution_count": 30
  },
  {
   "metadata": {
    "ExecuteTime": {
     "end_time": "2024-12-09T17:53:36.848992Z",
     "start_time": "2024-12-09T17:53:36.845478Z"
    }
   },
   "cell_type": "code",
   "source": [
    "    # Performing matrix multiplication\n",
    "result_matrix = np.dot(array_4x5, array_5x4)\n",
    "print(\"\\n\")\n",
    "print(\"Result of matrix multiplication:\")\n",
    "print(result_matrix)"
   ],
   "id": "cdbd0074d2681e01",
   "outputs": [
    {
     "name": "stdout",
     "output_type": "stream",
     "text": [
      "\n",
      "\n",
      "Result of matrix multiplication:\n",
      "[[0.98271307 1.54532974 0.60433659 0.74611631]\n",
      " [1.52791776 2.32690317 1.18199836 1.60450271]\n",
      " [1.76625328 2.56212016 1.36908285 1.86728152]\n",
      " [0.62569238 1.72096554 0.89151183 0.97037685]]\n"
     ]
    }
   ],
   "execution_count": 31
  },
  {
   "metadata": {
    "ExecuteTime": {
     "end_time": "2024-12-09T17:53:36.901238Z",
     "start_time": "2024-12-09T17:53:36.897318Z"
    }
   },
   "cell_type": "code",
   "source": [
    "# Performing element-wise matrix multiplication\n",
    "result_elementwise = array_4x5 * array_4x5\n",
    "# result_elementwise = np.multiply(array_4x5,array_4x5)\n",
    "\n",
    "print(\"\\n\")\n",
    "print(\"Result of elementwise matrix multiplication:\")\n",
    "print(result_elementwise)"
   ],
   "id": "de7b0cb81b5c5b12",
   "outputs": [
    {
     "name": "stdout",
     "output_type": "stream",
     "text": [
      "\n",
      "\n",
      "Result of elementwise matrix multiplication:\n",
      "[[0.00234733 0.39128102 0.00392448 0.84805629 0.47911569]\n",
      " [0.02500565 0.68214442 0.86402233 0.08904251 0.86658405]\n",
      " [0.14729202 0.93750513 0.94529467 0.07768639 0.94466009]\n",
      " [0.01750574 0.04330965 0.6991284  0.96349929 0.07617227]]\n"
     ]
    }
   ],
   "execution_count": 32
  },
  {
   "metadata": {
    "ExecuteTime": {
     "end_time": "2024-12-09T17:53:36.950985Z",
     "start_time": "2024-12-09T17:53:36.946928Z"
    }
   },
   "cell_type": "code",
   "source": [
    "mean_value = np.mean(array_4x5)\n",
    "median_value = np.median(array_4x5)\n",
    "print(\"\\n\")\n",
    "print(\"Mean of the first matrix:\")\n",
    "print(mean_value)\n",
    "\n",
    "print(\"\\n\")\n",
    "print(\"\\nMedian of the first matrix:\")\n",
    "print(median_value)"
   ],
   "id": "e8b878e2bd68705",
   "outputs": [
    {
     "name": "stdout",
     "output_type": "stream",
     "text": [
      "\n",
      "\n",
      "Mean of the first matrix:\n",
      "0.5750836926730922\n",
      "\n",
      "\n",
      "\n",
      "Median of the first matrix:\n",
      "0.658853215259205\n"
     ]
    }
   ],
   "execution_count": 33
  },
  {
   "metadata": {
    "ExecuteTime": {
     "end_time": "2024-12-09T17:53:37.003343Z",
     "start_time": "2024-12-09T17:53:36.998485Z"
    }
   },
   "cell_type": "code",
   "source": [
    "transpose_matrix = np.transpose(array_4x5)\n",
    "\n",
    "print(\"\\n\")\n",
    "print(\"Original Matrix:\")\n",
    "print(array_4x5)\n",
    "\n",
    "print(\"\\n\")\n",
    "print(\"\\nTranspose of the Matrix:\")\n",
    "print(transpose_matrix)\n",
    "\n",
    "print(\"Determinate of random Matrix\")\n",
    "sq_mat = np.random.rand(4,4)\n",
    "det_mat = np.linalg.det(sq_mat)\n",
    "print(det_mat)\n"
   ],
   "id": "85647b87ac63a243",
   "outputs": [
    {
     "name": "stdout",
     "output_type": "stream",
     "text": [
      "\n",
      "\n",
      "Original Matrix:\n",
      "[[0.04844927 0.6255246  0.06264564 0.92089972 0.69218183]\n",
      " [0.15813175 0.82592035 0.92952801 0.29839991 0.93090497]\n",
      " [0.38378643 0.96824849 0.97226265 0.27872278 0.97193626]\n",
      " [0.13230927 0.2081097  0.83613898 0.98158    0.27599325]]\n",
      "\n",
      "\n",
      "\n",
      "Transpose of the Matrix:\n",
      "[[0.04844927 0.15813175 0.38378643 0.13230927]\n",
      " [0.6255246  0.82592035 0.96824849 0.2081097 ]\n",
      " [0.06264564 0.92952801 0.97226265 0.83613898]\n",
      " [0.92089972 0.29839991 0.27872278 0.98158   ]\n",
      " [0.69218183 0.93090497 0.97193626 0.27599325]]\n",
      "Determinate of random Matrix\n",
      "-0.18259424332720706\n"
     ]
    }
   ],
   "execution_count": 34
  },
  {
   "metadata": {
    "ExecuteTime": {
     "end_time": "2024-12-09T17:53:37.055706Z",
     "start_time": "2024-12-09T17:53:37.051433Z"
    }
   },
   "cell_type": "code",
   "source": [
    "# Obtain only the second column of the first array.\n",
    "\n",
    "print(\"First Matrix:\")\n",
    "print(array_4x5)\n",
    "print(\"\\nSecond Column:\")\n",
    "col = array_4x5[:,1]\n",
    "print(col)\n"
   ],
   "id": "18824fba2c720dda",
   "outputs": [
    {
     "name": "stdout",
     "output_type": "stream",
     "text": [
      "First Matrix:\n",
      "[[0.04844927 0.6255246  0.06264564 0.92089972 0.69218183]\n",
      " [0.15813175 0.82592035 0.92952801 0.29839991 0.93090497]\n",
      " [0.38378643 0.96824849 0.97226265 0.27872278 0.97193626]\n",
      " [0.13230927 0.2081097  0.83613898 0.98158    0.27599325]]\n",
      "\n",
      "Second Column:\n",
      "[0.6255246  0.82592035 0.96824849 0.2081097 ]\n"
     ]
    }
   ],
   "execution_count": 35
  },
  {
   "metadata": {
    "ExecuteTime": {
     "end_time": "2024-12-09T17:53:39.697176Z",
     "start_time": "2024-12-09T17:53:37.185274Z"
    }
   },
   "cell_type": "code",
   "source": [
    "import nltk\n",
    "from nltk.corpus import movie_reviews\n",
    "from nltk.tokenize import word_tokenize\n",
    "from nltk.corpus import stopwords\n",
    "from nltk.stem import PorterStemmer, WordNetLemmatizer\n",
    "\n",
    "nltk.download('movie_reviews')\n",
    "nltk.download('punkt_tab')\n",
    "nltk.download('stopwords')\n",
    "nltk.download('wordnet')\n",
    "\n",
    "# Load the Movie Review Dataset\n",
    "movie_reviews.categories()\n",
    "documents = [(list(movie_reviews.words(fileid)), category)\n",
    "             for category in movie_reviews.categories()\n",
    "             for fileid in movie_reviews.fileids(category)]\n",
    "\n",
    "# Shuffle the documents\n",
    "import random\n",
    "random.shuffle(documents)\n",
    "\n",
    "# Example document\n",
    "print(\"Original Document:\")\n",
    "print(\" \".join(documents[0][0]))"
   ],
   "id": "2f45cda5d87f2b6f",
   "outputs": [
    {
     "name": "stderr",
     "output_type": "stream",
     "text": [
      "[nltk_data] Downloading package movie_reviews to\n",
      "[nltk_data]     /home/nisarg/nltk_data...\n",
      "[nltk_data]   Package movie_reviews is already up-to-date!\n",
      "[nltk_data] Downloading package punkt_tab to /home/nisarg/nltk_data...\n",
      "[nltk_data]   Unzipping tokenizers/punkt_tab.zip.\n",
      "[nltk_data] Downloading package stopwords to /home/nisarg/nltk_data...\n",
      "[nltk_data]   Package stopwords is already up-to-date!\n",
      "[nltk_data] Downloading package wordnet to /home/nisarg/nltk_data...\n",
      "[nltk_data]   Package wordnet is already up-to-date!\n"
     ]
    },
    {
     "name": "stdout",
     "output_type": "stream",
     "text": [
      "Original Document:\n",
      "capsule : this super - light situation comedy from sweden tells the story of two close friends with romantic problems . the script involves formerly taboo subjects like erotic toys and sexual enhancers but otherwise the writing is not a lot different from what is shown free on television . the characters are paper - thin and the interesting ideas purely non - existent . this is a decrement - life - by - 90 - minutes card . , 0 ( - 4 to + 4 ) jalla ! jalla ! is basically an exuberant tv situation comedy written instead for the wide screen . it tells the story of two park custodians and the problems they are finding on the path to true love . the film is set in sweden where roro and mans ( fares fares and torkel petersson ) are custodians at a public park . roro is from a tightly knit lebanese family who control him very closely , mans is a swede from a much more liberal background . they spend most of the day in the bushes at their park , cleaning up after dogs . roro and mans each have girlfriends , but each has a problem . roro ( nicknamed \" jalla \" ) is having family problems . it seems that his family wants to arrange a marriage between him and a nice lebanese woman , yasmin ( laleh pourkarim ) , but he is already in love with lisa ( tuva novotny ) . yasmin likes roro , but does not want to get married either . mans on the other hand has been having a problem of sexual impotence . the two friends worry about their problems and discuss the problems with each other . mans thinks the answer to his problem is to purchase sexual enhancers . the one catch is that he is too shy to go in and buy them . roro and yasmin decide to give themselves some time by telling the families that they want to marry each other , but then plan to break up before the wedding . not too surprisingly neither finds that his idea works out the way he quite expected . the plot turns in several places are contrived . one knows fairly quickly that if things are going to work our happily for everybody certain plot contrivances have to happen . lebanese - born josef fares who wrote and directed is perhaps a better director than he is a writer . when things start to get slow , he just adds throws in another story . for example halfway into the film mans innocently antagonizes some local toughs and a long chase is added to the film . characterization is a little better with roro than it is with mans who does not seem to have a whole lot more personality beyond fear for losing a biological function . we do see some of roro ' s family life and his concerns . that may be because roro ' s background is a lot like that of the director . while the story was entertaining , i did not feel that i got anything worthwhile from the film . it was just a way to pass about an hour and a half in my life . one does not have to go to the movies to see entertainment like this . i rate it a 4 on the 0 to 10 scale and a 0 on the - 4 to + 4 scale .\n"
     ]
    }
   ],
   "execution_count": 36
  },
  {
   "metadata": {
    "ExecuteTime": {
     "end_time": "2024-12-09T17:53:41.819064Z",
     "start_time": "2024-12-09T17:53:39.703136Z"
    }
   },
   "cell_type": "code",
   "source": [
    "# Apply preprocessing to the example document\n",
    "def preprocess_text(document):\n",
    "\n",
    "    # Tokenization\n",
    "    words = word_tokenize(\" \".join(document))\n",
    "\n",
    "    # Convert to lowercase\n",
    "    words = [word.lower() for word in words]\n",
    "\n",
    "    # Remove stopwords\n",
    "    stop_words = set(stopwords.words('english'))\n",
    "    words = [word for word in words if word not in stop_words]\n",
    "\n",
    "    # Stemming\n",
    "    porter_stemmer = PorterStemmer()\n",
    "    words = [porter_stemmer.stem(word) for word in words]\n",
    "\n",
    "    # Lemmatization\n",
    "    lemmatizer = WordNetLemmatizer()\n",
    "    words = [lemmatizer.lemmatize(word) for word in words]\n",
    "\n",
    "    return words\n",
    "\n",
    "preprocessed_words = preprocess_text(documents[0][0])\n",
    "\n",
    "print(\"\\nAfter Preprocessing:\")\n",
    "print(\" \".join(preprocessed_words[:100]))  # Displaying only the first 100 words\n"
   ],
   "id": "1878b2ae8b13a4e0",
   "outputs": [
    {
     "name": "stdout",
     "output_type": "stream",
     "text": [
      "\n",
      "After Preprocessing:\n",
      "capsul : super - light situat comedi sweden tell stori two close friend romant problem . script involv formerli taboo subject like erot toy sexual enhanc otherwis write lot differ shown free televis . charact paper - thin interest idea pure non - exist . decrement - life - - 90 - minut card . , 0 ( - 4 + 4 ) jalla ! jalla ! basic exuber tv situat comedi written instead wide screen . tell stori two park custodian problem find path true love . film set sweden roro man ( fare fare torkel petersson ) custodian\n"
     ]
    }
   ],
   "execution_count": 37
  },
  {
   "metadata": {
    "ExecuteTime": {
     "end_time": "2024-12-09T17:53:41.844380Z",
     "start_time": "2024-12-09T17:53:41.839978Z"
    }
   },
   "cell_type": "code",
   "source": [
    "\n",
    "import pandas as pd\n",
    "\n",
    "#from google.colab import drive\n",
    "#drive.mount('/content/drive/')\n",
    "#mtcars = pd.read_csv('/content/drive/MyDrive/MLLabs/mtcars.csv')\n",
    "mt_cars = pd.read_csv('mtcars.csv')\n"
   ],
   "id": "314386a82173e2c2",
   "outputs": [],
   "execution_count": 38
  },
  {
   "metadata": {
    "ExecuteTime": {
     "end_time": "2024-12-09T17:53:41.897860Z",
     "start_time": "2024-12-09T17:53:41.886031Z"
    }
   },
   "cell_type": "code",
   "source": [
    "numeric_columns = mt_cars.select_dtypes(include=[np.number])\n",
    "\n",
    "print(\"\\nMean-centered mtcars dataset:\")\n",
    "for col in numeric_columns:\n",
    "    mt_cars[col] = mt_cars[col] - mt_cars[col].mean()\n",
    "\n",
    "print(mt_cars.head())"
   ],
   "id": "58b2849a7c074ad5",
   "outputs": [
    {
     "name": "stdout",
     "output_type": "stream",
     "text": [
      "\n",
      "Mean-centered mtcars dataset:\n",
      "               model       mpg     cyl        disp       hp      drat  \\\n",
      "0          Mazda RX4  0.909375 -0.1875  -70.721875 -36.6875  0.303437   \n",
      "1      Mazda RX4 Wag  0.909375 -0.1875  -70.721875 -36.6875  0.303437   \n",
      "2         Datsun 710  2.709375 -2.1875 -122.721875 -53.6875  0.253437   \n",
      "3     Hornet 4 Drive  1.309375 -0.1875   27.278125 -36.6875 -0.516563   \n",
      "4  Hornet Sportabout -1.390625  1.8125  129.278125  28.3125 -0.446563   \n",
      "\n",
      "        wt     qsec      vs       am    gear    carb  \n",
      "0 -0.59725 -1.38875 -0.4375  0.59375  0.3125  1.1875  \n",
      "1 -0.34225 -0.82875 -0.4375  0.59375  0.3125  1.1875  \n",
      "2 -0.89725  0.76125  0.5625  0.59375  0.3125 -1.8125  \n",
      "3 -0.00225  1.59125  0.5625 -0.40625 -0.6875 -1.8125  \n",
      "4  0.22275 -0.82875 -0.4375 -0.40625 -0.6875 -0.8125  \n"
     ]
    }
   ],
   "execution_count": 39
  },
  {
   "metadata": {},
   "cell_type": "markdown",
   "source": "# Exercise for Pandas Library:",
   "id": "5f34644fde46a118"
  },
  {
   "metadata": {
    "ExecuteTime": {
     "end_time": "2024-12-09T17:53:41.946950Z",
     "start_time": "2024-12-09T17:53:41.942371Z"
    }
   },
   "cell_type": "code",
   "source": [
    "import matplotlib.pyplot as plt\n",
    "\n",
    "iris  = pd.read_csv('Iris (1).csv')\n"
   ],
   "id": "72289d9b1b244144",
   "outputs": [],
   "execution_count": 40
  },
  {
   "metadata": {
    "ExecuteTime": {
     "end_time": "2024-12-09T17:53:42.103856Z",
     "start_time": "2024-12-09T17:53:41.991356Z"
    }
   },
   "cell_type": "code",
   "source": [
    "# 1. Draw Scatter Plot between SepalLengthCm and SepalWidthCm for “Iris.csv” file with proper labeling.\n",
    "\n",
    "plt.figure(figsize=(8,6))\n",
    "plt.scatter(iris['SepalLengthCm'], iris['SepalWidthCm'], color='blue', marker='o', alpha=0.7)\n",
    "plt.title('Scatter Plot: Sepal Length vs Sepal Width')\n",
    "plt.xlabel('Sepal Length (cm)')\n",
    "plt.ylabel('Sepal Width (cm)')\n",
    "plt.grid(True)\n",
    "plt.show()\n",
    "print(\"\\n\")"
   ],
   "id": "4dbf18d8411b7e20",
   "outputs": [
    {
     "data": {
      "text/plain": [
       "<Figure size 800x600 with 1 Axes>"
      ],
      "image/png": "[encoded data removed]"
     },
     "metadata": {},
     "output_type": "display_data"
    },
    {
     "name": "stdout",
     "output_type": "stream",
     "text": [
      "\n",
      "\n"
     ]
    }
   ],
   "execution_count": 41
  },
  {
   "metadata": {
    "ExecuteTime": {
     "end_time": "2024-12-09T17:53:42.251927Z",
     "start_time": "2024-12-09T17:53:42.129774Z"
    }
   },
   "cell_type": "code",
   "source": [
    "# 2. Draw Histogram of SepalLengthCm with proper labeling.\n",
    "\n",
    "plt.figure(figsize=(8,6))\n",
    "plt.hist(iris['SepalLengthCm'], bins=20, color='green', edgecolor='black', alpha=0.7)\n",
    "plt.title('Histogram: Sepal Length')\n",
    "plt.xlabel('Sepal Length (cm)')\n",
    "plt.ylabel('Frequency')\n",
    "plt.grid(True)\n",
    "plt.show()\n",
    "print(\"\\n\")\n",
    "\n"
   ],
   "id": "a62ca58ba51e80a6",
   "outputs": [
    {
     "data": {
      "text/plain": [
       "<Figure size 800x600 with 1 Axes>"
      ],
      "image/png": "[encoded data removed]"
     },
     "metadata": {},
     "output_type": "display_data"
    },
    {
     "name": "stdout",
     "output_type": "stream",
     "text": [
      "\n",
      "\n"
     ]
    }
   ],
   "execution_count": 42
  },
  {
   "metadata": {
    "ExecuteTime": {
     "end_time": "2024-12-09T17:53:42.370578Z",
     "start_time": "2024-12-09T17:53:42.287484Z"
    }
   },
   "cell_type": "code",
   "source": [
    "# 3. Plot bar chart of Species.\n",
    "\n",
    "plt.figure(figsize=(8,6))\n",
    "species_counts = iris['Species'].value_counts()  # Corrected method name\n",
    "print('species count:' )\n",
    "print(species_counts)\n",
    "print('\\n')\n",
    "plt.bar(species_counts.index, height=species_counts.values, color='blue', alpha=0.7)  # Use index and values\n",
    "plt.title('Bar Chart: Iris Species')\n",
    "plt.xlabel('Species')\n",
    "plt.ylabel('Count')\n",
    "plt.grid(axis='y')\n",
    "plt.show()\n"
   ],
   "id": "8e5a1124214783d5",
   "outputs": [
    {
     "name": "stdout",
     "output_type": "stream",
     "text": [
      "species count:\n",
      "Species\n",
      "Iris-setosa        50\n",
      "Iris-versicolor    50\n",
      "Iris-virginica     50\n",
      "Name: count, dtype: int64\n",
      "\n",
      "\n"
     ]
    },
    {
     "data": {
      "text/plain": [
       "<Figure size 800x600 with 1 Axes>"
      ],
      "image/png": "[encoded data removed]"
     },
     "metadata": {},
     "output_type": "display_data"
    }
   ],
   "execution_count": 43
  },
  {
   "metadata": {
    "ExecuteTime": {
     "end_time": "2024-12-09T17:53:42.395360Z",
     "start_time": "2024-12-09T17:53:42.392066Z"
    }
   },
   "cell_type": "code",
   "source": [
    "# Count total null values for each column\n",
    "null_counts = iris.isnull().sum()\n",
    "\n",
    "# Display the null counts\n",
    "print(\"Total Null Values for Each Column:\")\n",
    "print(null_counts)"
   ],
   "id": "35c942561f0c266c",
   "outputs": [
    {
     "name": "stdout",
     "output_type": "stream",
     "text": [
      "Total Null Values for Each Column:\n",
      "Id               0\n",
      "SepalLengthCm    0\n",
      "SepalWidthCm     0\n",
      "PetalLengthCm    0\n",
      "PetalWidthCm     0\n",
      "Species          0\n",
      "dtype: int64\n"
     ]
    }
   ],
   "execution_count": 44
  },
  {
   "metadata": {
    "ExecuteTime": {
     "end_time": "2024-12-09T17:53:42.445963Z",
     "start_time": "2024-12-09T17:53:42.438565Z"
    }
   },
   "cell_type": "code",
   "source": [
    "print(\"\\n\")\n",
    "\n",
    "# i) Print first 5 rows of SepalLengthCm\n",
    "print(\"i) First 5 rows of SepalLengthCm:\")\n",
    "print(iris['SepalLengthCm'].head())\n",
    "\n",
    "# ii) Print from 5th row onwards all columns of Iris.csv dataset\n",
    "print(\"\\nii) From 5th row onwards, all columns of Iris.csv dataset:\")\n",
    "print(iris.iloc[4:])"
   ],
   "id": "a40c7532c5ec8aa7",
   "outputs": [
    {
     "name": "stdout",
     "output_type": "stream",
     "text": [
      "\n",
      "\n",
      "i) First 5 rows of SepalLengthCm:\n",
      "0    5.1\n",
      "1    4.9\n",
      "2    4.7\n",
      "3    4.6\n",
      "4    5.0\n",
      "Name: SepalLengthCm, dtype: float64\n",
      "\n",
      "ii) From 5th row onwards, all columns of Iris.csv dataset:\n",
      "      Id  SepalLengthCm  SepalWidthCm  PetalLengthCm  PetalWidthCm  \\\n",
      "4      5            5.0           3.6            1.4           0.2   \n",
      "5      6            5.4           3.9            1.7           0.4   \n",
      "6      7            4.6           3.4            1.4           0.3   \n",
      "7      8            5.0           3.4            1.5           0.2   \n",
      "8      9            4.4           2.9            1.4           0.2   \n",
      "..   ...            ...           ...            ...           ...   \n",
      "145  146            6.7           3.0            5.2           2.3   \n",
      "146  147            6.3           2.5            5.0           1.9   \n",
      "147  148            6.5           3.0            5.2           2.0   \n",
      "148  149            6.2           3.4            5.4           2.3   \n",
      "149  150            5.9           3.0            5.1           1.8   \n",
      "\n",
      "            Species  \n",
      "4       Iris-setosa  \n",
      "5       Iris-setosa  \n",
      "6       Iris-setosa  \n",
      "7       Iris-setosa  \n",
      "8       Iris-setosa  \n",
      "..              ...  \n",
      "145  Iris-virginica  \n",
      "146  Iris-virginica  \n",
      "147  Iris-virginica  \n",
      "148  Iris-virginica  \n",
      "149  Iris-virginica  \n",
      "\n",
      "[146 rows x 6 columns]\n"
     ]
    }
   ],
   "execution_count": 45
  },
  {
   "metadata": {
    "ExecuteTime": {
     "end_time": "2024-12-09T17:53:42.518663Z",
     "start_time": "2024-12-09T17:53:42.495486Z"
    }
   },
   "cell_type": "code",
   "source": [
    "from sklearn.datasets import load_breast_cancer\n",
    "from sklearn.model_selection import train_test_split\n",
    "from sklearn.preprocessing import StandardScaler\n",
    "from sklearn.linear_model import LogisticRegression\n",
    "from sklearn.metrics import accuracy_score, classification_report, confusion_matrix\n",
    "\n",
    "# Load the Breast Cancer dataset\n",
    "data = load_breast_cancer()\n",
    "X = data.data\n",
    "y = data.target\n",
    "\n",
    "# Split the dataset into training and testing sets\n",
    "X_train, X_test, y_train, y_test = train_test_split(X, y, test_size=0.2, random_state=42)\n",
    "\n",
    "# Standardize the features\n",
    "scaler = StandardScaler()\n",
    "X_train_scaled = scaler.fit_transform(X_train)\n",
    "X_test_scaled = scaler.transform(X_test)\n",
    "\n",
    "# Train a Logistic Regression model\n",
    "model = LogisticRegression()\n",
    "model.fit(X_train_scaled, y_train)\n",
    "\n",
    "# Make predictions on the test set\n",
    "y_pred = model.predict(X_test_scaled)\n",
    "\n",
    "# Evaluate the model\n",
    "accuracy = accuracy_score(y_test, y_pred)\n",
    "conf_matrix = confusion_matrix(y_test, y_pred)\n",
    "classification_rep = classification_report(y_test, y_pred)\n",
    "\n",
    "# Print the results\n",
    "print(\"Accuracy:\", accuracy)\n",
    "print(\"\\nConfusion Matrix:\")\n",
    "print(conf_matrix)\n",
    "print(\"\\nClassification Report:\")\n",
    "print(classification_rep)"
   ],
   "id": "32249897d42a3ce8",
   "outputs": [
    {
     "name": "stdout",
     "output_type": "stream",
     "text": [
      "Accuracy: 0.9736842105263158\n",
      "\n",
      "Confusion Matrix:\n",
      "[[41  2]\n",
      " [ 1 70]]\n",
      "\n",
      "Classification Report:\n",
      "              precision    recall  f1-score   support\n",
      "\n",
      "           0       0.98      0.95      0.96        43\n",
      "           1       0.97      0.99      0.98        71\n",
      "\n",
      "    accuracy                           0.97       114\n",
      "   macro avg       0.97      0.97      0.97       114\n",
      "weighted avg       0.97      0.97      0.97       114\n",
      "\n"
     ]
    }
   ],
   "execution_count": 46
  },
  {
   "metadata": {
    "ExecuteTime": {
     "end_time": "2024-12-09T19:38:44.249916Z",
     "start_time": "2024-12-09T19:38:44.241444Z"
    }
   },
   "cell_type": "code",
   "source": [
    "import numpy as np\n",
    "\n",
    "def generate_normal_random_numbers(size):\n",
    "    \"\"\"\n",
    "    Generate random numbers from a normal distribution with mean 0 and variance 1.\n",
    "\n",
    "    Parameters:\n",
    "        size (int): Number of random numbers to generate.\n",
    "\n",
    "    Returns:\n",
    "        numpy.ndarray: Array of random numbers from the normal distribution.\n",
    "    \"\"\"\n",
    "    mean = 0\n",
    "    std_dev = 1  # Standard deviation is the square root of the variance\n",
    "    return np.random.normal(mean, std_dev, size)\n",
    "\n",
    "# Example usage\n",
    "random_numbers = generate_normal_random_numbers(3)\n",
    "print(random_numbers)\n"
   ],
   "id": "5cfba18cc546a8da",
   "outputs": [
    {
     "name": "stdout",
     "output_type": "stream",
     "text": [
      "[0.99396282 2.05817368 0.19677416]\n"
     ]
    }
   ],
   "execution_count": 48
  }
 ],
 "metadata": {
  "kernelspec": {
   "display_name": "Python 3",
   "language": "python",
   "name": "python3"
  },
  "language_info": {
   "codemirror_mode": {
    "name": "ipython",
    "version": 2
   },
   "file_extension": ".py",
   "mimetype": "text/x-python",
   "name": "python",
   "nbconvert_exporter": "python",
   "pygments_lexer": "ipython2",
   "version": "2.7.6"
  }
 },
 "nbformat": 4,
 "nbformat_minor": 5
}
