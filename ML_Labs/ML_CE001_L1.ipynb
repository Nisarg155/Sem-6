{
  "cells": [
    {
      "cell_type": "markdown",
      "source": [
        "Exercise for Numpy Library:"
      ],
      "metadata": {
        "id": "FATI1otyk-lT"
      },
      "id": "FATI1otyk-lT"
    },
    {
      "cell_type": "code",
      "id": "initial_id",
      "metadata": {
        "collapsed": true,
        "ExecuteTime": {
          "end_time": "2024-12-09T17:41:45.626751Z",
          "start_time": "2024-12-09T17:41:45.624608Z"
        },
        "id": "initial_id"
      },
      "source": [
        "import numpy as np"
      ],
      "outputs": [],
      "execution_count": null
    },
    {
      "metadata": {
        "ExecuteTime": {
          "end_time": "2024-12-09T17:41:45.678799Z",
          "start_time": "2024-12-09T17:41:45.673976Z"
        },
        "colab": {
          "base_uri": "https://localhost:8080/"
        },
        "id": "9aa5dae3a6acd4d4",
        "outputId": "d7b6cec3-2077-4f89-a9e3-437ee9f7084a"
      },
      "cell_type": "code",
      "source": [
        "# 4x5 array\n",
        "array_4x5 = np.random.rand(4, 5)\n",
        "\n",
        "# 5x4 array\n",
        "array_5x4 = np.random.rand(5, 4)\n",
        "\n",
        "print(\"4x5 array:\")\n",
        "print(array_4x5)\n",
        "print(\"\\n5x4 array:\")\n",
        "print(array_5x4)"
      ],
      "id": "9aa5dae3a6acd4d4",
      "outputs": [
        {
          "output_type": "stream",
          "name": "stdout",
          "text": [
            "4x5 array:\n",
            "[[0.6449589  0.06260014 0.01055574 0.28219363 0.37010643]\n",
            " [0.06832774 0.60488733 0.58376968 0.35669344 0.84486344]\n",
            " [0.79036771 0.20364787 0.62106395 0.11349935 0.02014095]\n",
            " [0.07091441 0.56556435 0.90758827 0.01735957 0.38174327]]\n",
            "\n",
            "5x4 array:\n",
            "[[0.86060328 0.85060239 0.95802096 0.0108103 ]\n",
            " [0.72940497 0.95013421 0.8670102  0.94363075]\n",
            " [0.36125654 0.04867711 0.74099442 0.43470701]\n",
            " [0.38870037 0.98619204 0.49582368 0.17454522]\n",
            " [0.55785031 0.51397393 0.84358139 0.12046963]]\n"
          ]
        }
      ],
      "execution_count": null
    },
    {
      "metadata": {
        "ExecuteTime": {
          "end_time": "2024-12-09T17:41:45.732885Z",
          "start_time": "2024-12-09T17:41:45.728855Z"
        },
        "colab": {
          "base_uri": "https://localhost:8080/"
        },
        "id": "cdbd0074d2681e01",
        "outputId": "00609017-9e5b-43f3-f742-c9c1e5fd2cf5"
      },
      "cell_type": "code",
      "source": [
        "    # Performing matrix multiplication\n",
        "result_matrix = np.dot(array_4x5, array_5x4)\n",
        "print(\"\\n\")\n",
        "print(\"Result of matrix multiplication:\")\n",
        "print(result_matrix)"
      ],
      "id": "cdbd0074d2681e01",
      "outputs": [
        {
          "output_type": "stream",
          "name": "stdout",
          "text": [
            "\n",
            "\n",
            "Result of matrix multiplication:\n",
            "[[0.92068068 1.07711811 1.13211403 0.16447441]\n",
            " [1.32085572 1.44726612 1.9120411  0.98933722]\n",
            " [1.1084511  1.01829715 1.46722473 0.4929305 ]\n",
            " [1.02113009 0.85518674 1.5614442  0.978004  ]]\n"
          ]
        }
      ],
      "execution_count": null
    },
    {
      "metadata": {
        "ExecuteTime": {
          "end_time": "2024-12-09T17:41:45.785400Z",
          "start_time": "2024-12-09T17:41:45.780417Z"
        },
        "colab": {
          "base_uri": "https://localhost:8080/"
        },
        "id": "de7b0cb81b5c5b12",
        "outputId": "d63b2850-d510-477e-b417-8427ffb46b38"
      },
      "cell_type": "code",
      "source": [
        "# Performing element-wise matrix multiplication\n",
        "result_elementwise = array_4x5 * array_4x5\n",
        "# result_elementwise = np.multiply(array_4x5,array_4x5)\n",
        "\n",
        "print(\"\\n\")\n",
        "print(\"Result of elementwise matrix multiplication:\")\n",
        "print(result_elementwise)"
      ],
      "id": "de7b0cb81b5c5b12",
      "outputs": [
        {
          "output_type": "stream",
          "name": "stdout",
          "text": [
            "\n",
            "\n",
            "Result of elementwise matrix multiplication:\n",
            "[[4.15971980e-01 3.91877750e-03 1.11423667e-04 7.96332464e-02\n",
            "  1.36978767e-01]\n",
            " [4.66868026e-03 3.65888679e-01 3.40787036e-01 1.27230207e-01\n",
            "  7.13794239e-01]\n",
            " [6.24681113e-01 4.14724565e-02 3.85720424e-01 1.28821016e-02\n",
            "  4.05658001e-04]\n",
            " [5.02885365e-03 3.19863034e-01 8.23716469e-01 3.01354562e-04\n",
            "  1.45727923e-01]]\n"
          ]
        }
      ],
      "execution_count": null
    },
    {
      "metadata": {
        "ExecuteTime": {
          "end_time": "2024-12-09T17:41:45.834871Z",
          "start_time": "2024-12-09T17:41:45.831336Z"
        },
        "colab": {
          "base_uri": "https://localhost:8080/"
        },
        "id": "e8b878e2bd68705",
        "outputId": "9a8f44ac-a05d-4c10-b523-1552a099bfea"
      },
      "cell_type": "code",
      "source": [
        "mean_value = np.mean(array_4x5)\n",
        "median_value = np.median(array_4x5)\n",
        "print(\"\\n\")\n",
        "print(\"Mean of the first matrix:\")\n",
        "print(mean_value)\n",
        "\n",
        "print(\"\\n\")\n",
        "print(\"\\nMedian of the first matrix:\")\n",
        "print(median_value)"
      ],
      "id": "e8b878e2bd68705",
      "outputs": [
        {
          "output_type": "stream",
          "name": "stdout",
          "text": [
            "\n",
            "\n",
            "Mean of the first matrix:\n",
            "0.3760423077853984\n",
            "\n",
            "\n",
            "\n",
            "Median of the first matrix:\n",
            "0.3633999311098608\n"
          ]
        }
      ],
      "execution_count": null
    },
    {
      "metadata": {
        "ExecuteTime": {
          "end_time": "2024-12-09T17:41:45.886086Z",
          "start_time": "2024-12-09T17:41:45.882279Z"
        },
        "colab": {
          "base_uri": "https://localhost:8080/"
        },
        "id": "85647b87ac63a243",
        "outputId": "d56f33a0-f171-4ffe-f31e-a980c97531ba"
      },
      "cell_type": "code",
      "source": [
        "transpose_matrix = np.transpose(array_4x5)\n",
        "\n",
        "print(\"\\n\")\n",
        "print(\"Original Matrix:\")\n",
        "print(array_4x5)\n",
        "\n",
        "print(\"\\n\")\n",
        "print(\"\\nTranspose of the Matrix:\")\n",
        "print(transpose_matrix)\n",
        "\n",
        "print(\"Determinate of random Matrix\")\n",
        "sq_mat = np.random.rand(4,4)\n",
        "det_mat = np.linalg.det(sq_mat)\n",
        "print(det_mat)\n"
      ],
      "id": "85647b87ac63a243",
      "outputs": [
        {
          "output_type": "stream",
          "name": "stdout",
          "text": [
            "\n",
            "\n",
            "Original Matrix:\n",
            "[[0.6449589  0.06260014 0.01055574 0.28219363 0.37010643]\n",
            " [0.06832774 0.60488733 0.58376968 0.35669344 0.84486344]\n",
            " [0.79036771 0.20364787 0.62106395 0.11349935 0.02014095]\n",
            " [0.07091441 0.56556435 0.90758827 0.01735957 0.38174327]]\n",
            "\n",
            "\n",
            "\n",
            "Transpose of the Matrix:\n",
            "[[0.6449589  0.06832774 0.79036771 0.07091441]\n",
            " [0.06260014 0.60488733 0.20364787 0.56556435]\n",
            " [0.01055574 0.58376968 0.62106395 0.90758827]\n",
            " [0.28219363 0.35669344 0.11349935 0.01735957]\n",
            " [0.37010643 0.84486344 0.02014095 0.38174327]]\n",
            "Determinate of random Matrix\n",
            "-0.012382715297599194\n"
          ]
        }
      ],
      "execution_count": null
    },
    {
      "metadata": {
        "ExecuteTime": {
          "end_time": "2024-12-09T17:41:45.940844Z",
          "start_time": "2024-12-09T17:41:45.936323Z"
        },
        "colab": {
          "base_uri": "https://localhost:8080/"
        },
        "id": "18824fba2c720dda",
        "outputId": "421f5be0-2b42-44e5-8b5a-a7dc6b44dbc0"
      },
      "cell_type": "code",
      "source": [
        "# Obtain only the second column of the first array.\n",
        "\n",
        "print(\"First Matrix:\")\n",
        "print(array_4x5)\n",
        "print(\"\\nSecond Column:\")\n",
        "col = array_4x5[:,1]\n",
        "print(col)\n"
      ],
      "id": "18824fba2c720dda",
      "outputs": [
        {
          "output_type": "stream",
          "name": "stdout",
          "text": [
            "First Matrix:\n",
            "[[0.6449589  0.06260014 0.01055574 0.28219363 0.37010643]\n",
            " [0.06832774 0.60488733 0.58376968 0.35669344 0.84486344]\n",
            " [0.79036771 0.20364787 0.62106395 0.11349935 0.02014095]\n",
            " [0.07091441 0.56556435 0.90758827 0.01735957 0.38174327]]\n",
            "\n",
            "Second Column:\n",
            "[0.06260014 0.60488733 0.20364787 0.56556435]\n"
          ]
        }
      ],
      "execution_count": null
    },
    {
      "cell_type": "markdown",
      "source": [
        "Exercise for NLTK library"
      ],
      "metadata": {
        "id": "-AzOn4lTkg2R"
      },
      "id": "-AzOn4lTkg2R"
    },
    {
      "metadata": {
        "ExecuteTime": {
          "end_time": "2024-12-09T17:41:47.703855Z",
          "start_time": "2024-12-09T17:41:45.991317Z"
        },
        "colab": {
          "base_uri": "https://localhost:8080/"
        },
        "id": "2f45cda5d87f2b6f",
        "outputId": "3d382d59-e7e1-4750-acb2-18e36e86d65e"
      },
      "cell_type": "code",
      "source": [
        "import nltk\n",
        "from nltk.corpus import movie_reviews\n",
        "from nltk.tokenize import word_tokenize\n",
        "from nltk.corpus import stopwords\n",
        "from nltk.stem import PorterStemmer, WordNetLemmatizer\n",
        "\n",
        "nltk.download('movie_reviews')\n",
        "nltk.download('punkt_tab')\n",
        "nltk.download('stopwords')\n",
        "nltk.download('wordnet')\n",
        "\n",
        "# Load the Movie Review Dataset\n",
        "movie_reviews.categories()\n",
        "documents = [(list(movie_reviews.words(fileid)), category)\n",
        "             for category in movie_reviews.categories()\n",
        "             for fileid in movie_reviews.fileids(category)]\n",
        "\n",
        "# Shuffle the documents\n",
        "import random\n",
        "random.shuffle(documents)\n",
        "\n",
        "# Example document\n",
        "print(\"Original Document:\")\n",
        "print(\" \".join(documents[0][0]))"
      ],
      "id": "2f45cda5d87f2b6f",
      "outputs": [
        {
          "output_type": "stream",
          "name": "stderr",
          "text": [
            "[nltk_data] Downloading package movie_reviews to /root/nltk_data...\n",
            "[nltk_data]   Package movie_reviews is already up-to-date!\n",
            "[nltk_data] Downloading package punkt_tab to /root/nltk_data...\n",
            "[nltk_data]   Package punkt_tab is already up-to-date!\n",
            "[nltk_data] Downloading package stopwords to /root/nltk_data...\n",
            "[nltk_data]   Package stopwords is already up-to-date!\n",
            "[nltk_data] Downloading package wordnet to /root/nltk_data...\n",
            "[nltk_data]   Package wordnet is already up-to-date!\n"
          ]
        },
        {
          "output_type": "stream",
          "name": "stdout",
          "text": [
            "Original Document:\n",
            "\" be gentle , \" urges natasha henstridge to matthew perry in \" the whole nine yards . \" \" i haven ' t made love in five years . \" \" neither have i , \" rebuts perry . \" i ' m married ! \" if jonathan lynn ' s latest comedy relied simply on jokes of that caliber -- and it certainly tries -- then it ' d be an innocuous if rather obvious little film . instead , its failings go much deeper . first off , who hasn ' t had enough of the tough wiseguy intimidates the timid wise guy genre ? if you want to make a pretty penny or two in hollywood nowadays simply write a \" comedy \" which pairs a robert de niro / james caan / bruce willis type with a billy crystal / hugh grant / matthew perry type and wait for the royalties to roll in . who ' s next ? jack nicholson and martin short ? it certainly doesn ' t have to be funny . \" the whole nine yards \" is not a particularly funny film , but it is borderline offensive . offensive in the way it continues a trend of poking fun at career criminals who wouldn ' t think twice about pushing your mother - in - law off the brooklyn bridge with her feet encased in concrete . that might sound like a funny sight gag , but the problem is these films have long since lost sight of the fact that taking a human life isn ' t all that funny to begin with . when the corpse is placed in a car , doused with gasoline , set ablaze and referred to as \" barbecue , \" it makes you wonder when all this playing killing for laughs is going to end . \" the whole nine yards \" is also offensive in so much as its three central female characters are portrayed as nothing more than sex objects . rosanna arquette plays a slutty , chain - smoking french canadian who ' s married to matthew perry ' s none - too - successful dentist . it ' s an unflattering role made all the more so by the unflattering outfits -- and unflattering situations -- into which arquette is thrust . then there ' s natasha henstridge ( \" species \" i and ii ) who plays the well - to - do wife of contract killer bruce willis . she gets involved with perry ' s character when he comes to chicago hoping to negotiate a finder ' s fee with mob boss yanni gogolack ( kevin pollack , transposing his vs with his ws ) after willis ' jimmy the tulip tudeski moves in next door . henstridge and perry ' s characters hitting it off is about as likely as bruce and demi getting back together . perry might have the charm but he doesn ' t have the physical attributes of a traditional leading man , especially in close - up . most objectified of the bunch is amanda peet , who turns in a sexually - ripe performance as perry ' s dental assistant with , it transpires , questionable career goals . peet ' s gratuitous nude scene proves how low this movie will stoop to keep its audience from dropping off . when \" my cousin vinny \" is the highpoint of a directorial career including such forgettable films as \" clue , \" \" greedy , \" and \" sgt . bilko , \" you have to wonder if lynn chose the wrong career path . perry ' s pratfalling goofiness coupled with willis ' likable hardness could have had some potential but with no script to work with , and a director who seems to be watching from the wings , their characters run out of gas quickly .\n"
          ]
        }
      ],
      "execution_count": null
    },
    {
      "metadata": {
        "ExecuteTime": {
          "end_time": "2024-12-09T17:41:47.785548Z",
          "start_time": "2024-12-09T17:41:47.725292Z"
        },
        "id": "1878b2ae8b13a4e0",
        "colab": {
          "base_uri": "https://localhost:8080/"
        },
        "outputId": "9b54d52f-954a-4549-e6ee-ba6ebdc17b37"
      },
      "cell_type": "code",
      "source": [
        "# Apply preprocessing to the example document\n",
        "def preprocess_text(document):\n",
        "\n",
        "    # Tokenization\n",
        "    words = word_tokenize(\" \".join(document))\n",
        "\n",
        "    # Convert to lowercase\n",
        "    words = [word.lower() for word in words]\n",
        "\n",
        "    # Remove stopwords\n",
        "    stop_words = set(stopwords.words('english'))\n",
        "    words = [word for word in words if word not in stop_words]\n",
        "\n",
        "    # Stemming\n",
        "    porter_stemmer = PorterStemmer()\n",
        "    words = [porter_stemmer.stem(word) for word in words]\n",
        "\n",
        "    # Lemmatization\n",
        "    lemmatizer = WordNetLemmatizer()\n",
        "    words = [lemmatizer.lemmatize(word) for word in words]\n",
        "\n",
        "    return words\n",
        "\n",
        "preprocessed_words = preprocess_text(documents[0][0])\n",
        "\n",
        "print(\"\\nAfter Preprocessing:\")\n",
        "print(\" \".join(preprocessed_words[:100]))  # Displaying only the first 100 words\n",
        "\n"
      ],
      "id": "1878b2ae8b13a4e0",
      "outputs": [
        {
          "output_type": "stream",
          "name": "stdout",
          "text": [
            "\n",
            "After Preprocessing:\n",
            "`` gentl , `` urg natasha henstridg matthew perri `` whole nine yard . `` `` ' made love five year . `` `` neither , `` rebut perri . `` ' marri ! `` jonathan lynn ' latest comedi reli simpli joke calib -- certainli tri -- ' innocu rather obviou littl film . instead , fail go much deeper . first , ' enough tough wiseguy intimid timid wise guy genr ? want make pretti penni two hollywood nowaday simpli write `` comedi `` pair robert de niro / jame caan / bruce willi type billi crystal /\n"
          ]
        }
      ],
      "execution_count": null
    },
    {
      "metadata": {
        "ExecuteTime": {
          "end_time": "2024-12-09T17:41:47.789666307Z",
          "start_time": "2024-12-09T17:32:59.270407Z"
        },
        "id": "314386a82173e2c2",
        "colab": {
          "base_uri": "https://localhost:8080/"
        },
        "outputId": "19a7e94c-06b2-4fdf-b8e7-3cf53c3c1fab"
      },
      "cell_type": "code",
      "source": [
        "\n",
        "import pandas as pd\n",
        "\n",
        "from google.colab import drive\n",
        "drive.mount('/content/drive/')\n",
        "mt_cars = pd.read_csv('/content/drive/MyDrive/MLLabs/mtcars.csv')\n",
        "# mt_cars = pd.read_csv('mtcars.csv')\n"
      ],
      "id": "314386a82173e2c2",
      "outputs": [
        {
          "output_type": "stream",
          "name": "stdout",
          "text": [
            "Drive already mounted at /content/drive/; to attempt to forcibly remount, call drive.mount(\"/content/drive/\", force_remount=True).\n"
          ]
        }
      ],
      "execution_count": null
    },
    {
      "metadata": {
        "ExecuteTime": {
          "end_time": "2024-12-09T17:41:47.790311290Z",
          "start_time": "2024-12-09T17:32:59.566053Z"
        },
        "id": "58b2849a7c074ad5",
        "colab": {
          "base_uri": "https://localhost:8080/"
        },
        "outputId": "8e4cffa6-a4be-4e80-bd65-f39c4c53b1dc"
      },
      "cell_type": "code",
      "source": [
        "numeric_columns = mt_cars.select_dtypes(include=[np.number])\n",
        "\n",
        "print(\"\\nMean-centered mtcars dataset:\")\n",
        "for col in numeric_columns:\n",
        "    mt_cars[col] = mt_cars[col] - mt_cars[col].mean()\n",
        "\n",
        "print(mt_cars.head())"
      ],
      "id": "58b2849a7c074ad5",
      "outputs": [
        {
          "output_type": "stream",
          "name": "stdout",
          "text": [
            "\n",
            "Mean-centered mtcars dataset:\n",
            "               model       mpg     cyl        disp       hp      drat  \\\n",
            "0          Mazda RX4  0.909375 -0.1875  -70.721875 -36.6875  0.303437   \n",
            "1      Mazda RX4 Wag  0.909375 -0.1875  -70.721875 -36.6875  0.303437   \n",
            "2         Datsun 710  2.709375 -2.1875 -122.721875 -53.6875  0.253437   \n",
            "3     Hornet 4 Drive  1.309375 -0.1875   27.278125 -36.6875 -0.516563   \n",
            "4  Hornet Sportabout -1.390625  1.8125  129.278125  28.3125 -0.446563   \n",
            "\n",
            "        wt     qsec      vs       am    gear    carb  \n",
            "0 -0.59725 -1.38875 -0.4375  0.59375  0.3125  1.1875  \n",
            "1 -0.34225 -0.82875 -0.4375  0.59375  0.3125  1.1875  \n",
            "2 -0.89725  0.76125  0.5625  0.59375  0.3125 -1.8125  \n",
            "3 -0.00225  1.59125  0.5625 -0.40625 -0.6875 -1.8125  \n",
            "4  0.22275 -0.82875 -0.4375 -0.40625 -0.6875 -0.8125  \n"
          ]
        }
      ],
      "execution_count": null
    },
    {
      "metadata": {
        "id": "5f34644fde46a118"
      },
      "cell_type": "markdown",
      "source": [
        "# Exercise for Pandas Library:"
      ],
      "id": "5f34644fde46a118"
    },
    {
      "metadata": {
        "ExecuteTime": {
          "end_time": "2024-12-09T17:41:47.797954504Z",
          "start_time": "2024-12-09T17:32:59.613816Z"
        },
        "id": "72289d9b1b244144"
      },
      "cell_type": "code",
      "source": [
        "import matplotlib.pyplot as plt\n",
        "\n",
        "# iris  = pd.read_csv('Iris (1).csv')\n",
        "iris = pd.read_csv('/content/drive/MyDrive/MLLabs/Iris.csv')\n"
      ],
      "id": "72289d9b1b244144",
      "outputs": [],
      "execution_count": null
    },
    {
      "metadata": {
        "ExecuteTime": {
          "end_time": "2024-12-09T17:41:47.800265807Z",
          "start_time": "2024-12-09T17:33:00.002123Z"
        },
        "id": "4dbf18d8411b7e20",
        "colab": {
          "base_uri": "https://localhost:8080/",
          "height": 599
        },
        "outputId": "9fe91474-6a8f-4a8b-9a79-3b21ed32a760"
      },
      "cell_type": "code",
      "source": [
        "# 1. Draw Scatter Plot between SepalLengthCm and SepalWidthCm for “Iris.csv” file with proper labeling.\n",
        "\n",
        "plt.figure(figsize=(8,6))\n",
        "plt.scatter(iris['SepalLengthCm'], iris['SepalWidthCm'], color='blue', marker='o', alpha=0.7)\n",
        "plt.title('Scatter Plot: Sepal Length vs Sepal Width')\n",
        "plt.xlabel('Sepal Length (cm)')\n",
        "plt.ylabel('Sepal Width (cm)')\n",
        "plt.grid(True)\n",
        "plt.show()\n",
        "print(\"\\n\")"
      ],
      "id": "4dbf18d8411b7e20",
      "outputs": [
        {
          "output_type": "display_data",
          "data": {
            "text/plain": [
              "<Figure size 800x600 with 1 Axes>"
            ],
            "image/png": "[encoded data removed]"
          },
          "metadata": {}
        },
        {
          "output_type": "stream",
          "name": "stdout",
          "text": [
            "\n",
            "\n"
          ]
        }
      ],
      "execution_count": null
    },
    {
      "metadata": {
        "ExecuteTime": {
          "end_time": "2024-12-09T17:41:47.800866165Z",
          "start_time": "2024-12-09T17:33:00.158971Z"
        },
        "id": "a62ca58ba51e80a6",
        "colab": {
          "base_uri": "https://localhost:8080/",
          "height": 599
        },
        "outputId": "3bbb0769-c24a-4c31-ccbd-9a5efc79081e"
      },
      "cell_type": "code",
      "source": [
        "# 2. Draw Histogram of SepalLengthCm with proper labeling.\n",
        "\n",
        "plt.figure(figsize=(8,6))\n",
        "plt.hist(iris['SepalLengthCm'], bins=20, color='green', edgecolor='black', alpha=0.7)\n",
        "plt.title('Histogram: Sepal Length')\n",
        "plt.xlabel('Sepal Length (cm)')\n",
        "plt.ylabel('Frequency')\n",
        "plt.grid(True)\n",
        "plt.show()\n",
        "print(\"\\n\")\n",
        "\n"
      ],
      "id": "a62ca58ba51e80a6",
      "outputs": [
        {
          "output_type": "display_data",
          "data": {
            "text/plain": [
              "<Figure size 800x600 with 1 Axes>"
            ],
            "image/png": "[encoded data removed]"
          },
          "metadata": {}
        },
        {
          "output_type": "stream",
          "name": "stdout",
          "text": [
            "\n",
            "\n"
          ]
        }
      ],
      "execution_count": null
    },
    {
      "metadata": {
        "ExecuteTime": {
          "end_time": "2024-12-09T17:41:47.801240876Z",
          "start_time": "2024-12-09T17:33:00.299495Z"
        },
        "id": "8e5a1124214783d5",
        "colab": {
          "base_uri": "https://localhost:8080/",
          "height": 703
        },
        "outputId": "a6d976e9-c720-4ad5-d268-dd030d4a9eae"
      },
      "cell_type": "code",
      "source": [
        "# 3. Plot bar chart of Species.\n",
        "\n",
        "plt.figure(figsize=(8,6))\n",
        "species_counts = iris['Species'].value_counts()  # Corrected method name\n",
        "print('species count:' )\n",
        "print(species_counts)\n",
        "print('\\n')\n",
        "plt.bar(species_counts.index, height=species_counts.values, color='blue', alpha=0.7)  # Use index and values\n",
        "plt.title('Bar Chart: Iris Species')\n",
        "plt.xlabel('Species')\n",
        "plt.ylabel('Count')\n",
        "plt.grid(axis='y')\n",
        "plt.show()\n"
      ],
      "id": "8e5a1124214783d5",
      "outputs": [
        {
          "output_type": "stream",
          "name": "stdout",
          "text": [
            "species count:\n",
            "Species\n",
            "Iris-setosa        50\n",
            "Iris-versicolor    50\n",
            "Iris-virginica     50\n",
            "Name: count, dtype: int64\n",
            "\n",
            "\n"
          ]
        },
        {
          "output_type": "display_data",
          "data": {
            "text/plain": [
              "<Figure size 800x600 with 1 Axes>"
            ],
            "image/png": "[encoded data removed]"
          },
          "metadata": {}
        }
      ],
      "execution_count": null
    },
    {
      "metadata": {
        "ExecuteTime": {
          "end_time": "2024-12-09T17:41:47.801583005Z",
          "start_time": "2024-12-09T17:33:00.395179Z"
        },
        "id": "35c942561f0c266c",
        "colab": {
          "base_uri": "https://localhost:8080/"
        },
        "outputId": "2862a707-bd0c-4905-fb64-15b800715c54"
      },
      "cell_type": "code",
      "source": [
        "# Count total null values for each column\n",
        "null_counts = iris.isnull().sum()\n",
        "\n",
        "# Display the null counts\n",
        "print(\"Total Null Values for Each Column:\")\n",
        "print(null_counts)"
      ],
      "id": "35c942561f0c266c",
      "outputs": [
        {
          "output_type": "stream",
          "name": "stdout",
          "text": [
            "Total Null Values for Each Column:\n",
            "Id               0\n",
            "SepalLengthCm    0\n",
            "SepalWidthCm     0\n",
            "PetalLengthCm    0\n",
            "PetalWidthCm     0\n",
            "Species          0\n",
            "dtype: int64\n"
          ]
        }
      ],
      "execution_count": null
    },
    {
      "metadata": {
        "ExecuteTime": {
          "end_time": "2024-12-09T17:41:47.801887131Z",
          "start_time": "2024-12-09T17:33:00.442264Z"
        },
        "id": "a40c7532c5ec8aa7",
        "colab": {
          "base_uri": "https://localhost:8080/"
        },
        "outputId": "8bd49aca-d050-47ab-87b8-92d0ced951ab"
      },
      "cell_type": "code",
      "source": [
        "print(\"\\n\")\n",
        "\n",
        "# i) Print first 5 rows of SepalLengthCm\n",
        "print(\"i) First 5 rows of SepalLengthCm:\")\n",
        "print(iris['SepalLengthCm'].head())\n",
        "\n",
        "# ii) Print from 5th row onwards all columns of Iris.csv dataset\n",
        "print(\"\\nii) From 5th row onwards, all columns of Iris.csv dataset:\")\n",
        "print(iris.iloc[4:])"
      ],
      "id": "a40c7532c5ec8aa7",
      "outputs": [
        {
          "output_type": "stream",
          "name": "stdout",
          "text": [
            "\n",
            "\n",
            "i) First 5 rows of SepalLengthCm:\n",
            "0    5.1\n",
            "1    4.9\n",
            "2    4.7\n",
            "3    4.6\n",
            "4    5.0\n",
            "Name: SepalLengthCm, dtype: float64\n",
            "\n",
            "ii) From 5th row onwards, all columns of Iris.csv dataset:\n",
            "      Id  SepalLengthCm  SepalWidthCm  PetalLengthCm  PetalWidthCm  \\\n",
            "4      5            5.0           3.6            1.4           0.2   \n",
            "5      6            5.4           3.9            1.7           0.4   \n",
            "6      7            4.6           3.4            1.4           0.3   \n",
            "7      8            5.0           3.4            1.5           0.2   \n",
            "8      9            4.4           2.9            1.4           0.2   \n",
            "..   ...            ...           ...            ...           ...   \n",
            "145  146            6.7           3.0            5.2           2.3   \n",
            "146  147            6.3           2.5            5.0           1.9   \n",
            "147  148            6.5           3.0            5.2           2.0   \n",
            "148  149            6.2           3.4            5.4           2.3   \n",
            "149  150            5.9           3.0            5.1           1.8   \n",
            "\n",
            "            Species  \n",
            "4       Iris-setosa  \n",
            "5       Iris-setosa  \n",
            "6       Iris-setosa  \n",
            "7       Iris-setosa  \n",
            "8       Iris-setosa  \n",
            "..              ...  \n",
            "145  Iris-virginica  \n",
            "146  Iris-virginica  \n",
            "147  Iris-virginica  \n",
            "148  Iris-virginica  \n",
            "149  Iris-virginica  \n",
            "\n",
            "[146 rows x 6 columns]\n"
          ]
        }
      ],
      "execution_count": null
    },
    {
      "cell_type": "markdown",
      "source": [
        "Exercise for Scikit Learn Library:"
      ],
      "metadata": {
        "id": "vDnEqOIwkyyy"
      },
      "id": "vDnEqOIwkyyy"
    },
    {
      "metadata": {
        "ExecuteTime": {
          "end_time": "2024-12-09T17:41:47.802306056Z",
          "start_time": "2024-12-09T17:33:21.938489Z"
        },
        "id": "32249897d42a3ce8",
        "colab": {
          "base_uri": "https://localhost:8080/"
        },
        "outputId": "cf577283-2c15-4258-e99c-48e8c32f41be"
      },
      "cell_type": "code",
      "source": [
        "from sklearn.datasets import load_breast_cancer\n",
        "from sklearn.model_selection import train_test_split\n",
        "from sklearn.preprocessing import StandardScaler\n",
        "from sklearn.linear_model import LogisticRegression\n",
        "from sklearn.metrics import accuracy_score, classification_report, confusion_matrix\n",
        "\n",
        "# Load the Breast Cancer dataset\n",
        "data = load_breast_cancer()\n",
        "X = data.data\n",
        "y = data.target\n",
        "\n",
        "# Split the dataset into training and testing sets\n",
        "X_train, X_test, y_train, y_test = train_test_split(X, y, test_size=0.2, random_state=42)\n",
        "\n",
        "# Standardize the features\n",
        "scaler = StandardScaler()\n",
        "X_train_scaled = scaler.fit_transform(X_train)\n",
        "X_test_scaled = scaler.transform(X_test)\n",
        "\n",
        "# Train a Logistic Regression model\n",
        "model = LogisticRegression()\n",
        "model.fit(X_train_scaled, y_train)\n",
        "\n",
        "# Make predictions on the test set\n",
        "y_pred = model.predict(X_test_scaled)\n",
        "\n",
        "# Evaluate the model\n",
        "accuracy = accuracy_score(y_test, y_pred)\n",
        "conf_matrix = confusion_matrix(y_test, y_pred)\n",
        "classification_rep = classification_report(y_test, y_pred)\n",
        "\n",
        "# Print the results\n",
        "print(\"Accuracy:\", accuracy)\n",
        "print(\"\\nConfusion Matrix:\")\n",
        "print(conf_matrix)\n",
        "print(\"\\nClassification Report:\")\n",
        "print(classification_rep)"
      ],
      "id": "32249897d42a3ce8",
      "outputs": [
        {
          "output_type": "stream",
          "name": "stdout",
          "text": [
            "Accuracy: 0.9736842105263158\n",
            "\n",
            "Confusion Matrix:\n",
            "[[41  2]\n",
            " [ 1 70]]\n",
            "\n",
            "Classification Report:\n",
            "              precision    recall  f1-score   support\n",
            "\n",
            "           0       0.98      0.95      0.96        43\n",
            "           1       0.97      0.99      0.98        71\n",
            "\n",
            "    accuracy                           0.97       114\n",
            "   macro avg       0.97      0.97      0.97       114\n",
            "weighted avg       0.97      0.97      0.97       114\n",
            "\n"
          ]
        }
      ],
      "execution_count": null
    }
  ],
  "metadata": {
    "kernelspec": {
      "display_name": "Python 3",
      "language": "python",
      "name": "python3"
    },
    "language_info": {
      "codemirror_mode": {
        "name": "ipython",
        "version": 2
      },
      "file_extension": ".py",
      "mimetype": "text/x-python",
      "name": "python",
      "nbconvert_exporter": "python",
      "pygments_lexer": "ipython2",
      "version": "2.7.6"
    },
    "colab": {
      "provenance": []
    }
  },
  "nbformat": 4,
  "nbformat_minor": 5
}