{
 "nbformat": 4,
 "nbformat_minor": 0,
 "metadata": {
  "colab": {
   "provenance": [],
   "authorship_tag": "ABX9TyOgLiRlu8tJCY2qrMIDmkGG"
  },
  "kernelspec": {
   "name": "python3",
   "display_name": "Python 3 (ipykernel)",
   "language": "python"
  },
  "language_info": {
   "name": "python"
  }
 },
 "cells": [
  {
   "cell_type": "markdown",
   "source": "# Exercise 4.1 , Predicting output",
   "metadata": {
    "id": "TlBRsOAvDLQ2"
   }
  },
  {
   "cell_type": "code",
   "metadata": {
    "id": "9CmxA4HHCLYl",
    "ExecuteTime": {
     "end_time": "2024-12-24T17:28:52.004982Z",
     "start_time": "2024-12-24T17:28:51.998060Z"
    }
   },
   "source": [
    "from pandas import read_csv\n",
    "from sklearn import preprocessing\n",
    "from sklearn.naive_bayes import GaussianNB, MultinomialNB,CategoricalNB"
   ],
   "outputs": [],
   "execution_count": 26
  },
  {
   "cell_type": "code",
   "source": [
    "weather = ['Sunny', 'Sunny', 'Overcast', 'Rainy','Rainy','Rainy', 'Overcast','Sunny', 'Sunny', 'Rainy', 'Sunny', 'Overcast','Overcast', 'Rainy']\n",
    "temp = ['Hot','Hot','Hot','Mild','Cool','Cool','Cool','Mild','Cool','Mild','Mild','Mild','Hot','Mild']\n",
    "play=['No','No','Yes','Yes','Yes','No','Yes','No','Yes','Yes','Yes','Yes','Yes','No']"
   ],
   "metadata": {
    "id": "KJGr8zAlDZW9",
    "ExecuteTime": {
     "end_time": "2024-12-24T17:28:52.026125Z",
     "start_time": "2024-12-24T17:28:52.019265Z"
    }
   },
   "outputs": [],
   "execution_count": 27
  },
  {
   "cell_type": "code",
   "source": [
    "# Create LabelEncoder\n",
    "le = preprocessing.LabelEncoder()\n",
    "\n",
    "# Encoding 'weather'\n",
    "weather_encoded = le.fit_transform(weather)\n",
    "# Encoding 'temp'\n",
    "temp_encoded = le.fit_transform(temp)\n",
    "# Encoding 'play'\n",
    "label = le.fit_transform(play)\n",
    "\n",
    "\n",
    "#Combinig weather and temp into single listof tuples\n",
    "features=tuple(zip(weather_encoded,temp_encoded))\n",
    "\n",
    "#Create a Classifier\n",
    "model=CategoricalNB(alpha=0, fit_prior=True)\n",
    "\n",
    "# Train the model using the training sets\n",
    "model.fit(features,label)\n",
    "model.get_params()\n",
    "\n",
    "\n",
    "#Predict Output\n",
    "predicted= model.predict([[0,1]])\n",
    "prob = model.predict_proba([[0,1]])\n",
    "print(\"Predicted Value:\", predicted)\n",
    "print(\"Probability:\" , prob)\n",
    "print('\\n')\n",
    "#Predict Output\n",
    "predicted= model.predict([[0,1]]) # 0:Overcast, 2:Mild\n",
    "prob = model.predict_proba([[0,1]])\n",
    "print(\"Predicted Value:\", predicted)\n",
    "print(\"Probability:\" , prob)"
   ],
   "metadata": {
    "colab": {
     "base_uri": "https://localhost:8080/"
    },
    "id": "yys4Xl_KDpi9",
    "executionInfo": {
     "status": "ok",
     "timestamp": 1734418568873,
     "user_tz": -330,
     "elapsed": 6,
     "user": {
      "displayName": "A1_CE009_Vaibhav Dhanani",
      "userId": "16773622200861296478"
     }
    },
    "outputId": "478bb572-ad28-4c86-8bad-53f4bb38bf82",
    "ExecuteTime": {
     "end_time": "2024-12-24T17:28:52.171529Z",
     "start_time": "2024-12-24T17:28:52.150504Z"
    }
   },
   "outputs": [
    {
     "name": "stdout",
     "output_type": "stream",
     "text": [
      "Predicted Value: [1]\n",
      "Probability: [[0. 1.]]\n",
      "\n",
      "\n",
      "Predicted Value: [1]\n",
      "Probability: [[0. 1.]]\n"
     ]
    },
    {
     "name": "stderr",
     "output_type": "stream",
     "text": [
      "/usr/local/lib64/python3.13/site-packages/sklearn/naive_bayes.py:1504: RuntimeWarning: divide by zero encountered in log\n",
      "  np.log(smoothed_cat_count) - np.log(smoothed_class_count.reshape(-1, 1))\n"
     ]
    }
   ],
   "execution_count": 28
  },
  {
   "cell_type": "markdown",
   "source": "## Task 1 : Try algo on Dataset1",
   "metadata": {
    "id": "UfmdlxmzCd_G"
   }
  },
  {
   "cell_type": "code",
   "source": [
    "# Import necessary libraries\n",
    "import pandas as pd\n",
    "import numpy as np\n",
    "from sklearn.model_selection import train_test_split\n",
    "from sklearn.preprocessing import OneHotEncoder, LabelEncoder\n",
    "from sklearn.naive_bayes import MultinomialNB,CategoricalNB\n",
    "from sklearn.metrics import accuracy_score, precision_recall_fscore_support,classification_report\n",
    "\n",
    "\n",
    "# Load the dataset\n",
    "data = pd.read_csv('Dataset1 (1).csv')\n",
    "\n",
    "\n",
    "\n",
    "# Separate features and target\n",
    "X = data.drop('Play', axis=1)\n",
    "y = data['Play']\n",
    "\n",
    "# Initialize OneHotEncoder for features\n",
    "feature_encoder = OneHotEncoder(sparse_output=False, handle_unknown='ignore')\n",
    "X_encoded = feature_encoder.fit_transform(X)\n",
    "\n",
    "# Initialize LabelEncoder for target\n",
    "label_encoder = LabelEncoder()\n",
    "y_encoded = label_encoder.fit_transform(y)\n",
    "\n",
    "# Create DataFrame with encoded features\n",
    "encoded_df = pd.DataFrame(\n",
    "    X_encoded,\n",
    "    columns=feature_encoder.get_feature_names_out(X.columns)\n",
    ")\n",
    "\n",
    "# Split the data into train and test sets\n",
    "X_train, X_test, y_train, y_test = train_test_split(\n",
    "    X_encoded, y_encoded, test_size=0.3, random_state=1\n",
    ")\n",
    "\n",
    "# Train the Multinomial Naive Bayes model\n",
    "model = CategoricalNB()\n",
    "model.fit(X_train, y_train)\n",
    "\n",
    "# Evaluate the model\n",
    "y_pred = model.predict(X_test)\n",
    "accuracy = accuracy_score(y_test, y_pred)\n",
    "precision, recall, _, _ = precision_recall_fscore_support(y_test, y_pred, average='binary')\n",
    "classification_rep = classification_report(y_test, y_pred)\n",
    "# Print evaluation metrics\n",
    "\n",
    "print(\"Model Metrics:\")\n",
    "print(f\"Accuracy: {accuracy:.2f}\")\n",
    "print(f\"Precision: {precision:.2f}\")\n",
    "print(f\"Recall: {recall:.2f}\")\n",
    "\n",
    "# print(\"Classification Report:\\n\", classification_rep)\n",
    "\n",
    "# Create query data for predictions\n",
    "query1 = pd.DataFrame({\n",
    "    'Outlook': ['Rain'],\n",
    "    'Temp': ['Mild'],\n",
    "    'Humidity': ['Normal'],\n",
    "    'Wind': ['False']\n",
    "})\n",
    "\n",
    "query2 = pd.DataFrame({\n",
    "    'Outlook': ['Sunny'],\n",
    "    'Temp': ['Cool'],\n",
    "    'Humidity': ['High'],\n",
    "    'Wind': ['True']\n",
    "})\n",
    "\n",
    "# Encode queries using the fitted OneHotEncoder\n",
    "query1_encoded = feature_encoder.transform(query1)\n",
    "query2_encoded = feature_encoder.transform(query2)\n",
    "\n",
    "# Make predictions for the queries\n",
    "pred1 = model.predict(query1_encoded)\n",
    "pred2 = model.predict(query2_encoded)\n",
    "\n",
    "# Get probability estimates for the queries\n",
    "prob1 = model.predict_proba(query1_encoded)\n",
    "prob2 = model.predict_proba(query2_encoded)\n",
    "\n",
    "# Convert numeric predictions back to labels\n",
    "pred1_label = label_encoder.inverse_transform(pred1)\n",
    "pred2_label = label_encoder.inverse_transform(pred2)\n",
    "\n",
    "# Print predictions and probabilities\n",
    "print(\"\\nPredictions:\")\n",
    "print(f\"Query 1 (Rainy, Mild, Normal, False): {pred1_label[0]} (Probability: {prob1[0][1]:.2f})\")\n",
    "print(f\"Query 2 (Sunny, Cool, High, True): {pred2_label[0]} (Probability: {prob2[0][1]:.2f})\")\n",
    "\n",
    "\n"
   ],
   "metadata": {
    "colab": {
     "base_uri": "https://localhost:8080/"
    },
    "id": "1sobBbTnMaaa",
    "executionInfo": {
     "status": "ok",
     "timestamp": 1734864121633,
     "user_tz": -330,
     "elapsed": 4838,
     "user": {
      "displayName": "A1_CE009_Vaibhav Dhanani",
      "userId": "16773622200861296478"
     }
    },
    "outputId": "c3f6da99-173f-45ca-af2b-2129e59fc770",
    "ExecuteTime": {
     "end_time": "2024-12-24T17:28:52.324035Z",
     "start_time": "2024-12-24T17:28:52.261321Z"
    }
   },
   "outputs": [
    {
     "name": "stdout",
     "output_type": "stream",
     "text": [
      "Model Metrics:\n",
      "Accuracy: 0.60\n",
      "Precision: 0.75\n",
      "Recall: 0.75\n",
      "\n",
      "Predictions:\n",
      "Query 1 (Rainy, Mild, Normal, False): Y (Probability: 0.51)\n",
      "Query 2 (Sunny, Cool, High, True): Y (Probability: 0.53)\n"
     ]
    }
   ],
   "execution_count": 29
  },
  {
   "metadata": {},
   "cell_type": "markdown",
   "source": "## Task 2 : Digits Dataset"
  },
  {
   "metadata": {
    "ExecuteTime": {
     "end_time": "2024-12-24T17:33:48.149551Z",
     "start_time": "2024-12-24T17:33:48.084692Z"
    }
   },
   "cell_type": "code",
   "source": [
    "import pandas as pd\n",
    "from sklearn.model_selection import train_test_split\n",
    "from sklearn.naive_bayes import GaussianNB\n",
    "from sklearn.metrics import precision_score, recall_score, accuracy_score\n",
    "\n",
    "# Load the dataset\n",
    "file_path = 'digits.csv'  # Replace with your file path\n",
    "data = pd.read_csv(file_path)\n",
    "\n",
    "# Splitting the data into features (X) and target (y)\n",
    "X = data.iloc[:, :-1]  # All columns except the last one\n",
    "y = data.iloc[:, -1]   # The last column\n",
    "\n",
    "# Splitting the dataset into training and test sets\n",
    "X_train, X_test, y_train, y_test = train_test_split(X, y, test_size=0.2, random_state=1)\n",
    "\n",
    "# Initializing and training the Naive Bayes classifier\n",
    "nb_model = GaussianNB()\n",
    "nb_model.fit(X_train, y_train)\n",
    "\n",
    "# Making predictions\n",
    "y_pred = nb_model.predict(X_test)\n",
    "\n",
    "# Calculating performance metrics\n",
    "accuracy = accuracy_score(y_test, y_pred)\n",
    "precision = precision_score(y_test, y_pred, average='weighted')  # Weighted average for multiclass\n",
    "recall = recall_score(y_test, y_pred, average='weighted')\n",
    "\n",
    "# Print the results\n",
    "print(f\"Accuracy: {accuracy:.4f}\")\n",
    "print(f\"Precision: {precision:.4f}\")\n",
    "print(f\"Recall: {recall:.4f}\")\n"
   ],
   "outputs": [
    {
     "name": "stdout",
     "output_type": "stream",
     "text": [
      "Accuracy: 0.8194\n",
      "Precision: 0.8740\n",
      "Recall: 0.8194\n"
     ]
    }
   ],
   "execution_count": 31
  }
 ]
}
