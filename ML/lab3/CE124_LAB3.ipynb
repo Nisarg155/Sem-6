{
  "nbformat": 4,
  "nbformat_minor": 0,
  "metadata": {
    "colab": {
      "provenance": []
    },
    "kernelspec": {
      "name": "python3",
      "display_name": "Python 3"
    },
    "language_info": {
      "name": "python"
    }
  },
  "cells": [
    {
      "cell_type": "code",
      "execution_count": null,
      "metadata": {
        "id": "Z3kj1V_TgWkW",
        "colab": {
          "base_uri": "https://localhost:8080/"
        },
        "outputId": "f368a264-49df-4102-954c-103670d83303"
      },
      "outputs": [
        {
          "output_type": "stream",
          "name": "stdout",
          "text": [
            "Accuracy: 0.9\n",
            "precision: 0.8888888888888888\n",
            "recall: 0.9411764705882353\n"
          ]
        }
      ],
      "source": [
        "import numpy as np\n",
        "from sklearn import datasets\n",
        "from sklearn.naive_bayes import GaussianNB\n",
        "\n",
        "'''iris = datasets.load_iris()\n",
        "print(\"features: \", iris.feature_names)\n",
        "print (\"labels: \", iris.target_names)\n",
        "print(\"\\nData Shape: \", iris.data.shape)\n",
        "print(\"\\nTarget shape:\", iris.target.shape)\n",
        "#print(\"\\nData: \", iris.data)\n",
        "#print(\"\\nTarget: \", iris.target)\n",
        "print(\"\\nData type: \",type(iris.data))\n",
        "newdata = iris.data[50:, :]\n",
        "newtarget = iris.target[50:]\n",
        "print(\"\\nNew data shape: \", newdata.shape)\n",
        "print(\"\\n new target shape: \", newtarget.shape)'''\n",
        "\n",
        "from sklearn.model_selection import train_test_split\n",
        "data_train, data_test, target_train, target_test = train_test_split(newdata, newtarget, test_size = 0.30, random_state = 5)\n",
        "\n",
        "import numpy as np\n",
        "gnb = GaussianNB()\n",
        "\n",
        "gnb.fit(data_train, target_train)\n",
        "target_pred = gnb.predict(data_test)\n",
        "from sklearn import metrics\n",
        "print(\"Accuracy:\", metrics.accuracy_score(target_test, target_pred))\n",
        "from sklearn.metrics import confusion_matrix\n",
        "confusion_matrix(target_test, target_pred)\n",
        "from sklearn.metrics import precision_score\n",
        "from sklearn.metrics import recall_score\n",
        "precision = precision_score(target_test, target_pred)\n",
        "recall = recall_score(target_test, target_pred)\n",
        "print('precision: {}'.format(precision))\n",
        "print('recall: {}'.format(recall))\n"
      ]
    },
    {
      "cell_type": "code",
      "source": [
        "from IPython.display import Image\n",
        "from IPython.core.display import HTML\n",
        "PATH = \"/content/drive/MyDrive/ML/lab2/Dataset3.csv\"\n",
        "from sklearn import preprocessing\n",
        "from sklearn.naive_bayes import GaussianNB, MultinomialNB\n",
        "\n",
        "weather = ['Sunny', 'Sunny', 'overcast', 'Rainy', 'Rainy', 'Rainy', 'Overcast', 'Sunny', 'Sunny', 'Rainy', 'Sunny', 'Overcast', 'Overcast', 'Rainy']\n",
        "temp = ['Hot', 'Hot', 'Hot', 'Mild', 'Cool', 'Cool', 'Cool', 'Mild', 'cool', 'Mild','Mild','Mild', 'Hot','Mild' ]\n",
        "play=['No','No','Yes','Yes','Yes','No','Yes','No','Yes',\n",
        "'Yes','Yes','Yes','Yes','No']\n",
        "le = preprocessing.LabelEncoder()\n",
        "weather_encoded=le.fit_transform(weather)\n",
        "print(\"Weather:\", weather_encoded)\n",
        "temp_encoded=le.fit_transform(temp)\n",
        "label=le.fit_transform(play)\n",
        "print (\"temp: \", temp_encoded)\n",
        "print(\"play:\", label)\n",
        "features = tuple(zip(weather_encoded, temp_encoded))\n",
        "print(\"features:\", features)\n",
        "#\n",
        "model=MultinomialNB(alpha=0, fit_prior=True)\n",
        "model.fit (features, label)\n",
        "model.get_params()\n",
        "predicted = model.predict([[0,2]])\n",
        "print(\"predicted value: \", predicted)\n",
        "predicted = model.predict([[0,1]])\n",
        "print(\"predicted value:\", predicted)\n",
        "print(\"predicted value: \", predicted)"
      ],
      "metadata": {
        "id": "F7mAvFrus5FG",
        "colab": {
          "base_uri": "https://localhost:8080/"
        },
        "outputId": "05538987-117b-4ac1-943b-0e469cb19e40"
      },
      "execution_count": null,
      "outputs": [
        {
          "output_type": "stream",
          "name": "stdout",
          "text": [
            "Weather: [2 2 3 1 1 1 0 2 2 1 2 0 0 1]\n",
            "temp:  [1 1 1 2 0 0 0 2 3 2 2 2 1 2]\n",
            "play: [0 0 1 1 1 0 1 0 1 1 1 1 1 0]\n",
            "features: ((2, 1), (2, 1), (3, 1), (1, 2), (1, 0), (1, 0), (0, 0), (2, 2), (2, 3), (1, 2), (2, 2), (0, 2), (0, 1), (1, 2))\n",
            "predicted value:  [1]\n",
            "predicted value: [1]\n",
            "predicted value:  [1]\n"
          ]
        },
        {
          "output_type": "stream",
          "name": "stderr",
          "text": [
            "/usr/local/lib/python3.10/dist-packages/sklearn/naive_bayes.py:629: FutureWarning: The default value for `force_alpha` will change to `True` in 1.4. To suppress this warning, manually set the value of `force_alpha`.\n",
            "  warnings.warn(\n",
            "/usr/local/lib/python3.10/dist-packages/sklearn/naive_bayes.py:635: UserWarning: alpha too small will result in numeric errors, setting alpha = 1.0e-10. Use `force_alpha=True` to keep alpha unchanged.\n",
            "  warnings.warn(\n"
          ]
        }
      ]
    },
    {
      "cell_type": "code",
      "source": [
        "from sklearn.preprocessing import LabelEncoder\n",
        "import numpy as np\n",
        "import pandas as pd\n",
        "from sklearn import preprocessing\n",
        "from sklearn.metrics import accuracy_score, f1_score, precision_score, recall_score\n",
        "from sklearn.naive_bayes import MultinomialNB,CategoricalNB\n",
        "from sklearn.model_selection import train_test_split\n",
        "\n",
        "\n",
        "data = {\n",
        "    'Outlook': ['R', 'R', 'O', 'R', 'S', 'O', 'O', 'R', 'O', 'S', 'R', 'O', 'O', 'S'],\n",
        "    'Temp': ['H', 'H', 'H', 'M', 'C', 'C', 'C', 'M', 'C', 'M', 'M', 'M', 'H', 'M'],\n",
        "    'Wind': ['F', 'T', 'F', 'F', 'F', 'T', 'T', 'F', 'F', 'F', 'T', 'T', 'F', 'T'],\n",
        "    'Humidity': [1, 2, 1, 1, 1, 0, 1, 1, 0, 2, 2, 0, 1, 1],\n",
        "    'Class': [0, 0, 1, 1, 1, 0, 1, 0, 1, 1, 0, 1, 1, 0]\n",
        "}\n",
        "\n",
        "#Directly taken the value\n",
        "\n",
        "import pandas as pd\n",
        "df = pd.DataFrame(data)\n",
        "\n",
        "\n",
        "label_encoder = LabelEncoder()\n",
        "\n",
        "# Apply label encoding to categorical columns\n",
        "df['Outlook'] = label_encoder.fit_transform(df['Outlook'])\n",
        "df['Temp'] = label_encoder.fit_transform(df['Temp'])\n",
        "df['Wind'] = label_encoder.fit_transform(df['Wind'])\n",
        "\n",
        "\n"
      ],
      "metadata": {
        "id": "v-fAJ9Fm3Xmr"
      },
      "execution_count": 1,
      "outputs": []
    },
    {
      "cell_type": "code",
      "source": [
        "from sklearn.model_selection import train_test_split\n",
        "from sklearn.metrics import accuracy_score\n",
        "from sklearn.naive_bayes import CategoricalNB\n",
        "\n",
        "\n",
        "X = df[['Outlook', 'Temp', 'Wind', 'Humidity']]\n",
        "y = df['Class']\n",
        "\n",
        "\n",
        "X_train, X_test, y_train, y_test = train_test_split(X, y, test_size=0.05,random_state=124)\n",
        "\n",
        "\n",
        "model = CategoricalNB(alpha=1)\n",
        "model.fit(X_train, y_train)\n",
        "\n",
        "\n",
        "y_pred = model.predict(X_test)\n",
        "\n",
        "\n",
        "print(\"The precision is : \", precision_score(y_test, y_pred))\n",
        "print(\"The Accuracy is  : \", accuracy_score(y_test,  y_pred))\n",
        "print(\"The Recall is    : \", recall_score(y_test,  y_pred))"
      ],
      "metadata": {
        "colab": {
          "base_uri": "https://localhost:8080/"
        },
        "id": "e3n3-Ovhirud",
        "outputId": "28e6a1e2-71e2-4c24-fa00-cdbb4ef32822"
      },
      "execution_count": 2,
      "outputs": [
        {
          "output_type": "stream",
          "name": "stdout",
          "text": [
            "The precision is :  0.0\n",
            "The Accuracy is  :  1.0\n",
            "The Recall is    :  0.0\n"
          ]
        },
        {
          "output_type": "stream",
          "name": "stderr",
          "text": [
            "/usr/local/lib/python3.10/dist-packages/sklearn/metrics/_classification.py:1344: UndefinedMetricWarning: Precision is ill-defined and being set to 0.0 due to no predicted samples. Use `zero_division` parameter to control this behavior.\n",
            "  _warn_prf(average, modifier, msg_start, len(result))\n",
            "/usr/local/lib/python3.10/dist-packages/sklearn/metrics/_classification.py:1344: UndefinedMetricWarning: Recall is ill-defined and being set to 0.0 due to no true samples. Use `zero_division` parameter to control this behavior.\n",
            "  _warn_prf(average, modifier, msg_start, len(result))\n"
          ]
        }
      ]
    },
    {
      "cell_type": "markdown",
      "source": [
        "## New Section"
      ],
      "metadata": {
        "id": "W31uHJgJhslx"
      }
    },
    {
      "cell_type": "code",
      "source": [
        "from sklearn.model_selection import train_test_split\n",
        "from sklearn.naive_bayes import GaussianNB\n",
        "from sklearn import preprocessing\n",
        "\n",
        "weather = ['Sunny', 'Sunny', 'Overcast', 'Rainy','Rainy','Rainy', 'Overcast','Sunny', 'Sunny', 'Rainy', 'Sunny', 'Overcast','Overcast', 'Rainy']\n",
        "temp = ['Hot','Hot','Hot','Mild','Cool','Cool','Cool','Mild','Cool','Mild','Mild','Mild','Hot','Mild']\n",
        "play = ['No','No','Yes','Yes','Yes','No','Yes','No','Yes','Yes','Yes','Yes','Yes','No']\n",
        "\n",
        "\n",
        "le = preprocessing.LabelEncoder()\n",
        "weather_encoded = le.fit_transform(weather)\n",
        "temp_encoded = le.fit_transform(temp)\n",
        "\n",
        "features = list(zip(weather_encoded, temp_encoded))\n",
        "\n",
        "\n",
        "labels = le.fit_transform(play)\n",
        "\n",
        "X_train, X_test, y_train, y_test = train_test_split(features, labels, test_size=0.5, random_state=0)\n",
        "\n",
        "\n",
        "gnb = GaussianNB()\n",
        "y_pred = gnb.fit(X_train, y_train).predict(X_test)\n",
        "\n",
        "predicted= gnb.predict_proba([[2, 2]])\n",
        "print(predicted)\n",
        "\n"
      ],
      "metadata": {
        "colab": {
          "base_uri": "https://localhost:8080/"
        },
        "id": "mr6E6Bd7i3RX",
        "outputId": "e8c269b5-4c61-4cea-f0bc-91d94a64ff19"
      },
      "execution_count": 3,
      "outputs": [
        {
          "output_type": "stream",
          "name": "stdout",
          "text": [
            "[[0.58657052 0.41342948]]\n"
          ]
        }
      ]
    },
    {
      "cell_type": "code",
      "source": [
        "from sklearn import preprocessing\n",
        "from sklearn.naive_bayes import CategoricalNB\n",
        "weather = ['Sunny', 'Sunny', 'Overcast', 'Rainy', 'Rainy', 'Rainy', 'Overcast','Sunny', 'Sunny', 'Rainy', 'Sunny', 'Overcast', 'Overcast', 'Rainy']\n",
        "\n",
        "temp = ['Hot','Hot','Hot','Mild','Cool','Cool','Cool','Mild', 'Cool','Mild','Mild','Mild','Hot','Mild']\n",
        "\n",
        "play=['No','No','Yes','Yes','Yes','No','Yes','No','Yes','Yes','Yes','Yes','Yes','No']\n",
        "\n",
        "le = preprocessing.LabelEncoder()\n",
        "weather_encoded=le.fit_transform(weather)\n",
        "\n",
        "temp_encoded=le.fit_transform(temp)\n",
        "label=le.fit_transform(play)\n",
        "\n",
        "features=tuple(zip(weather_encoded,temp_encoded))\n",
        "model=CategoricalNB(alpha=0, fit_prior=True)\n",
        "model.fit(features,label)\n",
        "\n",
        "predicted= model.predict_proba([[2, 2]])\n",
        "print(\"Predicted Value:\", predicted)"
      ],
      "metadata": {
        "colab": {
          "base_uri": "https://localhost:8080/"
        },
        "id": "S76l_yYHjNg3",
        "outputId": "fb1f724f-baf0-4899-a937-4c26ed9b7247"
      },
      "execution_count": 4,
      "outputs": [
        {
          "output_type": "stream",
          "name": "stdout",
          "text": [
            "Predicted Value: [[0.57446809 0.42553191]]\n"
          ]
        },
        {
          "output_type": "stream",
          "name": "stderr",
          "text": [
            "/usr/local/lib/python3.10/dist-packages/sklearn/naive_bayes.py:629: FutureWarning: The default value for `force_alpha` will change to `True` in 1.4. To suppress this warning, manually set the value of `force_alpha`.\n",
            "  warnings.warn(\n",
            "/usr/local/lib/python3.10/dist-packages/sklearn/naive_bayes.py:635: UserWarning: alpha too small will result in numeric errors, setting alpha = 1.0e-10. Use `force_alpha=True` to keep alpha unchanged.\n",
            "  warnings.warn(\n"
          ]
        }
      ]
    },
    {
      "cell_type": "code",
      "source": [
        "from sklearn.datasets import load_breast_cancer\n",
        "from sklearn.model_selection import train_test_split\n",
        "from sklearn.naive_bayes import GaussianNB\n",
        "from sklearn.naive_bayes import MultinomialNB,BernoulliNB\n",
        "\n",
        "\n",
        "from sklearn.metrics import precision_score, accuracy_score, recall_score\n",
        "\n",
        "data = load_breast_cancer()\n",
        "X, y = data.data, data.target\n",
        "\n",
        "import pandas as pd\n",
        "df = pd.DataFrame(data.data, columns=data.feature_names)\n",
        "df['target'] = data.target\n",
        "\n",
        "# No need for OneHotEncoder as features are already numerical\n",
        "\n",
        "X_train, X_test, y_train, y_test = train_test_split(X, y, test_size=0.5, random_state=124)\n",
        "\n",
        "model = GaussianNB()\n",
        "model.fit(X_train, y_train)\n",
        "y_pred = model.predict(X_test)\n",
        "\n",
        "print(\"The precision is: \", precision_score(y_test, y_pred))\n",
        "print(\"The Accuracy is : \", accuracy_score(y_test, y_pred))\n",
        "print(\"The Recall is   : \", recall_score(y_test, y_pred))\n"
      ],
      "metadata": {
        "colab": {
          "base_uri": "https://localhost:8080/"
        },
        "id": "8z6Q-CS1jUcd",
        "outputId": "b83a90e3-60df-461f-8410-c4a5281ae5f3"
      },
      "execution_count": 5,
      "outputs": [
        {
          "output_type": "stream",
          "name": "stdout",
          "text": [
            "The precision is:  0.9447513812154696\n",
            "The Accuracy is :  0.9473684210526315\n",
            "The Recall is   :  0.9715909090909091\n"
          ]
        }
      ]
    }
  ]
}