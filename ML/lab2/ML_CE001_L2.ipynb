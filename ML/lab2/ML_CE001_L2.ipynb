{
 "cells": [
  {
   "cell_type": "code",
   "id": "initial_id",
   "metadata": {
    "collapsed": true,
    "id": "initial_id",
    "outputId": "897ce0f9-153f-4d2f-ce26-20bb1202180b",
    "ExecuteTime": {
     "end_time": "2024-12-16T16:53:03.523104Z",
     "start_time": "2024-12-16T16:53:03.503769Z"
    }
   },
   "source": [
    "import numpy as np\n",
    "import seaborn as sns\n",
    "import pandas as pd\n",
    "\n",
    "dataset = pd.read_csv('Exercise-CarData.csv')\n",
    "print(dataset.describe())"
   ],
   "outputs": [
    {
     "name": "stdout",
     "output_type": "stream",
     "text": [
      "        Unnamed: 0         Price          Age     MetColor    Automatic  \\\n",
      "count  1436.000000   1436.000000  1336.000000  1286.000000  1436.000000   \n",
      "mean    717.500000  10730.824513    55.672156     0.674961     0.055710   \n",
      "std     414.681806   3626.964585    18.589804     0.468572     0.229441   \n",
      "min       0.000000   4350.000000     1.000000     0.000000     0.000000   \n",
      "25%     358.750000   8450.000000    43.000000     0.000000     0.000000   \n",
      "50%     717.500000   9900.000000    60.000000     1.000000     0.000000   \n",
      "75%    1076.250000  11950.000000    70.000000     1.000000     0.000000   \n",
      "max    1435.000000  32500.000000    80.000000     1.000000     1.000000   \n",
      "\n",
      "                CC      Weight  \n",
      "count  1436.000000  1436.00000  \n",
      "mean   1566.827994  1072.45961  \n",
      "std     187.182436    52.64112  \n",
      "min    1300.000000  1000.00000  \n",
      "25%    1400.000000  1040.00000  \n",
      "50%    1600.000000  1070.00000  \n",
      "75%    1600.000000  1085.00000  \n",
      "max    2000.000000  1615.00000  \n"
     ]
    }
   ],
   "execution_count": 1
  },
  {
   "cell_type": "markdown",
   "source": [
    "# Removing the Extra Column"
   ],
   "metadata": {
    "id": "503pG48SccA7"
   },
   "id": "503pG48SccA7"
  },
  {
   "metadata": {
    "id": "f5ce53e9677a6640",
    "outputId": "c0220b61-84d5-4e13-e749-b362709bc6df",
    "ExecuteTime": {
     "end_time": "2024-12-16T16:53:03.566222Z",
     "start_time": "2024-12-16T16:53:03.552876Z"
    }
   },
   "cell_type": "code",
   "source": [
    "# Removing extra column\n",
    "\n",
    "dataset.drop(\"Unnamed: 0\",axis=1,inplace=True)\n",
    "dataset.head()\n"
   ],
   "id": "f5ce53e9677a6640",
   "outputs": [
    {
     "data": {
      "text/plain": [
       "   Price   Age     KM FuelType  HP  MetColor  Automatic    CC  Doors  Weight\n",
       "0  13500  23.0  46986   Diesel  90       1.0          0  2000  three    1165\n",
       "1  13750  23.0  72937   Diesel  90       1.0          0  2000      3    1165\n",
       "2  13950  24.0  41711   Diesel  90       NaN          0  2000      3    1165\n",
       "3  14950  26.0  48000   Diesel  90       0.0          0  2000      3    1165\n",
       "4  13750  30.0  38500   Diesel  90       0.0          0  2000      3    1170"
      ],
      "text/html": [
       "<div>\n",
       "<style scoped>\n",
       "    .dataframe tbody tr th:only-of-type {\n",
       "        vertical-align: middle;\n",
       "    }\n",
       "\n",
       "    .dataframe tbody tr th {\n",
       "        vertical-align: top;\n",
       "    }\n",
       "\n",
       "    .dataframe thead th {\n",
       "        text-align: right;\n",
       "    }\n",
       "</style>\n",
       "<table border=\"1\" class=\"dataframe\">\n",
       "  <thead>\n",
       "    <tr style=\"text-align: right;\">\n",
       "      <th></th>\n",
       "      <th>Price</th>\n",
       "      <th>Age</th>\n",
       "      <th>KM</th>\n",
       "      <th>FuelType</th>\n",
       "      <th>HP</th>\n",
       "      <th>MetColor</th>\n",
       "      <th>Automatic</th>\n",
       "      <th>CC</th>\n",
       "      <th>Doors</th>\n",
       "      <th>Weight</th>\n",
       "    </tr>\n",
       "  </thead>\n",
       "  <tbody>\n",
       "    <tr>\n",
       "      <th>0</th>\n",
       "      <td>13500</td>\n",
       "      <td>23.0</td>\n",
       "      <td>46986</td>\n",
       "      <td>Diesel</td>\n",
       "      <td>90</td>\n",
       "      <td>1.0</td>\n",
       "      <td>0</td>\n",
       "      <td>2000</td>\n",
       "      <td>three</td>\n",
       "      <td>1165</td>\n",
       "    </tr>\n",
       "    <tr>\n",
       "      <th>1</th>\n",
       "      <td>13750</td>\n",
       "      <td>23.0</td>\n",
       "      <td>72937</td>\n",
       "      <td>Diesel</td>\n",
       "      <td>90</td>\n",
       "      <td>1.0</td>\n",
       "      <td>0</td>\n",
       "      <td>2000</td>\n",
       "      <td>3</td>\n",
       "      <td>1165</td>\n",
       "    </tr>\n",
       "    <tr>\n",
       "      <th>2</th>\n",
       "      <td>13950</td>\n",
       "      <td>24.0</td>\n",
       "      <td>41711</td>\n",
       "      <td>Diesel</td>\n",
       "      <td>90</td>\n",
       "      <td>NaN</td>\n",
       "      <td>0</td>\n",
       "      <td>2000</td>\n",
       "      <td>3</td>\n",
       "      <td>1165</td>\n",
       "    </tr>\n",
       "    <tr>\n",
       "      <th>3</th>\n",
       "      <td>14950</td>\n",
       "      <td>26.0</td>\n",
       "      <td>48000</td>\n",
       "      <td>Diesel</td>\n",
       "      <td>90</td>\n",
       "      <td>0.0</td>\n",
       "      <td>0</td>\n",
       "      <td>2000</td>\n",
       "      <td>3</td>\n",
       "      <td>1165</td>\n",
       "    </tr>\n",
       "    <tr>\n",
       "      <th>4</th>\n",
       "      <td>13750</td>\n",
       "      <td>30.0</td>\n",
       "      <td>38500</td>\n",
       "      <td>Diesel</td>\n",
       "      <td>90</td>\n",
       "      <td>0.0</td>\n",
       "      <td>0</td>\n",
       "      <td>2000</td>\n",
       "      <td>3</td>\n",
       "      <td>1170</td>\n",
       "    </tr>\n",
       "  </tbody>\n",
       "</table>\n",
       "</div>"
      ]
     },
     "execution_count": 2,
     "metadata": {},
     "output_type": "execute_result"
    }
   ],
   "execution_count": 2
  },
  {
   "cell_type": "markdown",
   "source": [
    "# Handeling Missing Values"
   ],
   "metadata": {
    "id": "kP7idv0ecf27"
   },
   "id": "kP7idv0ecf27"
  },
  {
   "metadata": {
    "id": "eb439ba7ad39a26e",
    "ExecuteTime": {
     "end_time": "2024-12-16T16:53:03.699049Z",
     "start_time": "2024-12-16T16:53:03.693102Z"
    }
   },
   "cell_type": "code",
   "source": [
    "# Handling miss values using\n",
    "\n",
    "\n",
    "dataset['Doors'] = dataset['Doors'].replace({\"three\": \"3\", \"four\": \"4\", \"five\": \"5\"})\n",
    "dataset['Doors'] = dataset['Doors'].astype(int)\n",
    "\n",
    "# Replace placeholders with NaN\n",
    "dataset['KM'] = dataset['KM'].replace(\"??\", -1)\n",
    "dataset['KM'] = dataset['KM'].astype(int)\n",
    "dataset['HP'] = dataset['HP'].replace(\"????\", -1)\n",
    "dataset['HP'] = dataset['HP'].astype(int)\n",
    "dataset['MetColor'] = dataset['MetColor'].fillna(-1).astype(int)\n",
    "\n",
    "\n"
   ],
   "id": "eb439ba7ad39a26e",
   "outputs": [],
   "execution_count": 3
  },
  {
   "cell_type": "markdown",
   "source": [
    "# Checking for Swewness"
   ],
   "metadata": {
    "id": "y0Qp79aCcoYM"
   },
   "id": "y0Qp79aCcoYM"
  },
  {
   "metadata": {
    "id": "b20e98d12438af89",
    "outputId": "af33d978-993a-46ae-9397-c21b6c62f4a7",
    "ExecuteTime": {
     "end_time": "2024-12-16T16:53:03.751397Z",
     "start_time": "2024-12-16T16:53:03.741163Z"
    }
   },
   "cell_type": "code",
   "source": [
    "# Removing rows with all null values\n",
    "dataset.dropna(axis=0,how='all',inplace=True)\n",
    "\n",
    "# Check Skewness and then handel missing values accordingly\n",
    "def check_skewness(data):\n",
    "    results = {}\n",
    "    for column in data.select_dtypes(include='number'):\n",
    "        skew = data[column].skew()\n",
    "        mean = data[column].mean()\n",
    "        median = data[column].median()\n",
    "        results[column] = {\n",
    "            \"Skewness\": skew,\n",
    "            \"Mean\": mean,\n",
    "            \"Median\": median,\n",
    "            \"Skewed?\": \"Yes\" if abs(skew) > 1 else \"No\"\n",
    "        }\n",
    "    return pd.DataFrame(results).T\n",
    "\n",
    "skew_info = check_skewness(dataset)\n",
    "print(skew_info)\n",
    "\n"
   ],
   "id": "b20e98d12438af89",
   "outputs": [
    {
     "name": "stdout",
     "output_type": "stream",
     "text": [
      "           Skewness          Mean   Median Skewed?\n",
      "Price      1.703885  10730.824513   9900.0     Yes\n",
      "Age       -0.801266     55.672156     60.0      No\n",
      "KM         0.955908  67930.162256  63061.5      No\n",
      "HP        -0.336041    101.050139    110.0      No\n",
      "MetColor  -1.009057           0.5      1.0     Yes\n",
      "Automatic  3.878197       0.05571      0.0     Yes\n",
      "CC         0.607241   1566.827994   1600.0      No\n",
      "Doors     -0.076395      4.033426      4.0      No\n",
      "Weight     3.108639    1072.45961   1070.0     Yes\n"
     ]
    }
   ],
   "execution_count": 4
  },
  {
   "cell_type": "markdown",
   "source": [
    "# Imputing Missing Values based on Skewness"
   ],
   "metadata": {
    "id": "-aYSUnuXcyjd"
   },
   "id": "-aYSUnuXcyjd"
  },
  {
   "metadata": {
    "id": "8c1641790b4f1dbc",
    "outputId": "88721b1c-8fd6-4125-f697-dfe137e9e679",
    "ExecuteTime": {
     "end_time": "2024-12-16T16:53:03.883655Z",
     "start_time": "2024-12-16T16:53:03.868420Z"
    }
   },
   "cell_type": "code",
   "source": [
    "# Impeding Missing Values based on skewness\n",
    "\n",
    "\n",
    "dataset['Age'] = dataset['Age'].fillna(dataset['Age'].mean())\n",
    "dataset['MetColor'] = dataset['MetColor'].replace(-1,dataset['MetColor'].mode()[0])\n",
    "dataset['CC'] = dataset['CC'].fillna(dataset['CC'].mean())\n",
    "dataset['KM'] = dataset['KM'].replace(-1,dataset['KM'].mean())\n",
    "dataset['HP'] = dataset['HP'].replace(-1,dataset['HP'].mean())\n",
    "\n",
    "dataset.head()\n"
   ],
   "id": "8c1641790b4f1dbc",
   "outputs": [
    {
     "data": {
      "text/plain": [
       "   Price   Age       KM FuelType    HP  MetColor  Automatic    CC  Doors  \\\n",
       "0  13500  23.0  46986.0   Diesel  90.0         1          0  2000      3   \n",
       "1  13750  23.0  72937.0   Diesel  90.0         1          0  2000      3   \n",
       "2  13950  24.0  41711.0   Diesel  90.0         1          0  2000      3   \n",
       "3  14950  26.0  48000.0   Diesel  90.0         0          0  2000      3   \n",
       "4  13750  30.0  38500.0   Diesel  90.0         0          0  2000      3   \n",
       "\n",
       "   Weight  \n",
       "0    1165  \n",
       "1    1165  \n",
       "2    1165  \n",
       "3    1165  \n",
       "4    1170  "
      ],
      "text/html": [
       "<div>\n",
       "<style scoped>\n",
       "    .dataframe tbody tr th:only-of-type {\n",
       "        vertical-align: middle;\n",
       "    }\n",
       "\n",
       "    .dataframe tbody tr th {\n",
       "        vertical-align: top;\n",
       "    }\n",
       "\n",
       "    .dataframe thead th {\n",
       "        text-align: right;\n",
       "    }\n",
       "</style>\n",
       "<table border=\"1\" class=\"dataframe\">\n",
       "  <thead>\n",
       "    <tr style=\"text-align: right;\">\n",
       "      <th></th>\n",
       "      <th>Price</th>\n",
       "      <th>Age</th>\n",
       "      <th>KM</th>\n",
       "      <th>FuelType</th>\n",
       "      <th>HP</th>\n",
       "      <th>MetColor</th>\n",
       "      <th>Automatic</th>\n",
       "      <th>CC</th>\n",
       "      <th>Doors</th>\n",
       "      <th>Weight</th>\n",
       "    </tr>\n",
       "  </thead>\n",
       "  <tbody>\n",
       "    <tr>\n",
       "      <th>0</th>\n",
       "      <td>13500</td>\n",
       "      <td>23.0</td>\n",
       "      <td>46986.0</td>\n",
       "      <td>Diesel</td>\n",
       "      <td>90.0</td>\n",
       "      <td>1</td>\n",
       "      <td>0</td>\n",
       "      <td>2000</td>\n",
       "      <td>3</td>\n",
       "      <td>1165</td>\n",
       "    </tr>\n",
       "    <tr>\n",
       "      <th>1</th>\n",
       "      <td>13750</td>\n",
       "      <td>23.0</td>\n",
       "      <td>72937.0</td>\n",
       "      <td>Diesel</td>\n",
       "      <td>90.0</td>\n",
       "      <td>1</td>\n",
       "      <td>0</td>\n",
       "      <td>2000</td>\n",
       "      <td>3</td>\n",
       "      <td>1165</td>\n",
       "    </tr>\n",
       "    <tr>\n",
       "      <th>2</th>\n",
       "      <td>13950</td>\n",
       "      <td>24.0</td>\n",
       "      <td>41711.0</td>\n",
       "      <td>Diesel</td>\n",
       "      <td>90.0</td>\n",
       "      <td>1</td>\n",
       "      <td>0</td>\n",
       "      <td>2000</td>\n",
       "      <td>3</td>\n",
       "      <td>1165</td>\n",
       "    </tr>\n",
       "    <tr>\n",
       "      <th>3</th>\n",
       "      <td>14950</td>\n",
       "      <td>26.0</td>\n",
       "      <td>48000.0</td>\n",
       "      <td>Diesel</td>\n",
       "      <td>90.0</td>\n",
       "      <td>0</td>\n",
       "      <td>0</td>\n",
       "      <td>2000</td>\n",
       "      <td>3</td>\n",
       "      <td>1165</td>\n",
       "    </tr>\n",
       "    <tr>\n",
       "      <th>4</th>\n",
       "      <td>13750</td>\n",
       "      <td>30.0</td>\n",
       "      <td>38500.0</td>\n",
       "      <td>Diesel</td>\n",
       "      <td>90.0</td>\n",
       "      <td>0</td>\n",
       "      <td>0</td>\n",
       "      <td>2000</td>\n",
       "      <td>3</td>\n",
       "      <td>1170</td>\n",
       "    </tr>\n",
       "  </tbody>\n",
       "</table>\n",
       "</div>"
      ]
     },
     "execution_count": 5,
     "metadata": {},
     "output_type": "execute_result"
    }
   ],
   "execution_count": 5
  },
  {
   "metadata": {
    "id": "c36c39c1d3c06662",
    "outputId": "c876764b-1d1f-4c99-ca92-6c6d2e65b4d4",
    "ExecuteTime": {
     "end_time": "2024-12-16T16:53:04.097813Z",
     "start_time": "2024-12-16T16:53:04.090010Z"
    }
   },
   "cell_type": "code",
   "source": [
    "\n",
    "# Separating  features and output attribute\n",
    "\n",
    "features = dataset.iloc[: , 2:11]\n",
    "outputs = dataset.iloc[:,1:2]\n",
    "print('Features:\\n ' , features.head())\n",
    "print('\\n')\n",
    "print('Outputs:\\n' , outputs.head())\n",
    "\n",
    "\n",
    "\n",
    "\n"
   ],
   "id": "c36c39c1d3c06662",
   "outputs": [
    {
     "name": "stdout",
     "output_type": "stream",
     "text": [
      "Features:\n",
      "          KM FuelType    HP  MetColor  Automatic    CC  Doors  Weight\n",
      "0  46986.0   Diesel  90.0         1          0  2000      3    1165\n",
      "1  72937.0   Diesel  90.0         1          0  2000      3    1165\n",
      "2  41711.0   Diesel  90.0         1          0  2000      3    1165\n",
      "3  48000.0   Diesel  90.0         0          0  2000      3    1165\n",
      "4  38500.0   Diesel  90.0         0          0  2000      3    1170\n",
      "\n",
      "\n",
      "Outputs:\n",
      "     Age\n",
      "0  23.0\n",
      "1  23.0\n",
      "2  24.0\n",
      "3  26.0\n",
      "4  30.0\n"
     ]
    }
   ],
   "execution_count": 6
  },
  {
   "metadata": {
    "id": "f57321c3c9d4cb71",
    "outputId": "c2593cec-a7e2-4db3-d169-a1ba633e559c",
    "ExecuteTime": {
     "end_time": "2024-12-16T16:53:04.808918Z",
     "start_time": "2024-12-16T16:53:04.187820Z"
    }
   },
   "cell_type": "code",
   "source": [
    "import matplotlib.pyplot as plt\n",
    "\n",
    "sns.boxplot(x=dataset['KM'], color=\"skyblue\")\n",
    "plt.title(\"Boxplot of KM\")\n",
    "plt.xlabel(\"KM\")\n",
    "plt.show()\n",
    "print('\\n')\n",
    "\n",
    "sns.boxplot(x=dataset['Age'], color=\"skyblue\")\n",
    "plt.title(\"Boxplot of Age\")\n",
    "plt.xlabel(\"Age\")\n",
    "plt.show()\n",
    "print('\\n')\n",
    "\n",
    "sns.boxplot(x=dataset['Weight'], color=\"skyblue\")\n",
    "plt.title(\"Boxplot of Weight\")\n",
    "plt.xlabel(\"Weight\")\n",
    "plt.show()\n",
    "print('\\n')\n",
    "\n",
    "sns.boxplot(x=dataset['CC'], color=\"skyblue\")\n",
    "plt.title(\"Boxplot of CC\")\n",
    "plt.xlabel(\"CC\")\n",
    "plt.show()\n",
    "print('\\n')\n",
    "\n",
    "sns.boxplot(x=dataset['HP'], color=\"skyblue\")\n",
    "plt.title(\"Boxplot of HP\")\n",
    "plt.xlabel(\"HP\")\n",
    "plt.show()\n",
    "\n",
    "\n",
    "print(dataset.head())\n",
    "\n",
    "\n"
   ],
   "id": "f57321c3c9d4cb71",
   "outputs": [
    {
     "data": {
      "text/plain": [
       "<Figure size 640x480 with 1 Axes>"
      ],
      "image/png": "[encoded data removed]"
     },
     "metadata": {},
     "output_type": "display_data"
    },
    {
     "name": "stdout",
     "output_type": "stream",
     "text": [
      "\n",
      "\n"
     ]
    },
    {
     "data": {
      "text/plain": [
       "<Figure size 640x480 with 1 Axes>"
      ],
      "image/png": "[encoded data removed]"
     },
     "metadata": {},
     "output_type": "display_data"
    },
    {
     "name": "stdout",
     "output_type": "stream",
     "text": [
      "\n",
      "\n"
     ]
    },
    {
     "data": {
      "text/plain": [
       "<Figure size 640x480 with 1 Axes>"
      ],
      "image/png": "[encoded data removed]"
     },
     "metadata": {},
     "output_type": "display_data"
    },
    {
     "name": "stdout",
     "output_type": "stream",
     "text": [
      "\n",
      "\n"
     ]
    },
    {
     "data": {
      "text/plain": [
       "<Figure size 640x480 with 1 Axes>"
      ],
      "image/png": "[encoded data removed]"
     },
     "metadata": {},
     "output_type": "display_data"
    },
    {
     "name": "stdout",
     "output_type": "stream",
     "text": [
      "\n",
      "\n"
     ]
    },
    {
     "data": {
      "text/plain": [
       "<Figure size 640x480 with 1 Axes>"
      ],
      "image/png": "[encoded data removed]"
     },
     "metadata": {},
     "output_type": "display_data"
    },
    {
     "name": "stdout",
     "output_type": "stream",
     "text": [
      "   Price   Age       KM FuelType    HP  MetColor  Automatic    CC  Doors  \\\n",
      "0  13500  23.0  46986.0   Diesel  90.0         1          0  2000      3   \n",
      "1  13750  23.0  72937.0   Diesel  90.0         1          0  2000      3   \n",
      "2  13950  24.0  41711.0   Diesel  90.0         1          0  2000      3   \n",
      "3  14950  26.0  48000.0   Diesel  90.0         0          0  2000      3   \n",
      "4  13750  30.0  38500.0   Diesel  90.0         0          0  2000      3   \n",
      "\n",
      "   Weight  \n",
      "0    1165  \n",
      "1    1165  \n",
      "2    1165  \n",
      "3    1165  \n",
      "4    1170  \n"
     ]
    }
   ],
   "execution_count": 7
  },
  {
   "metadata": {},
   "cell_type": "markdown",
   "source": "# Handling Categorical Data",
   "id": "80412009515fdd4f"
  },
  {
   "metadata": {
    "ExecuteTime": {
     "end_time": "2024-12-16T16:53:04.842385Z",
     "start_time": "2024-12-16T16:53:04.835196Z"
    }
   },
   "cell_type": "code",
   "source": [
    "dummy = pd.get_dummies(dataset['FuelType'])\n",
    "dataset = dataset.drop('FuelType', axis=1)\n",
    "dataset = pd.concat([dummy, dataset], axis=1)\n",
    "print(dataset.head())"
   ],
   "id": "e86b7265f9fbae47",
   "outputs": [
    {
     "name": "stdout",
     "output_type": "stream",
     "text": [
      "     CNG  Diesel  Petrol  Price   Age       KM    HP  MetColor  Automatic  \\\n",
      "0  False    True   False  13500  23.0  46986.0  90.0         1          0   \n",
      "1  False    True   False  13750  23.0  72937.0  90.0         1          0   \n",
      "2  False    True   False  13950  24.0  41711.0  90.0         1          0   \n",
      "3  False    True   False  14950  26.0  48000.0  90.0         0          0   \n",
      "4  False    True   False  13750  30.0  38500.0  90.0         0          0   \n",
      "\n",
      "     CC  Doors  Weight  \n",
      "0  2000      3    1165  \n",
      "1  2000      3    1165  \n",
      "2  2000      3    1165  \n",
      "3  2000      3    1165  \n",
      "4  2000      3    1170  \n"
     ]
    }
   ],
   "execution_count": 8
  },
  {
   "metadata": {
    "id": "401bb3de9ccdf289",
    "outputId": "3d741d0c-482f-4eba-d900-3c624c612ad6",
    "ExecuteTime": {
     "end_time": "2024-12-16T16:56:13.406187Z",
     "start_time": "2024-12-16T16:56:13.393204Z"
    }
   },
   "cell_type": "code",
   "source": [
    "# Scaling the data using RobustScaler\n",
    "from sklearn.preprocessing import RobustScaler\n",
    "scaler = RobustScaler()\n",
    "dataset.loc[:,['Age','KM','HP','CC','Weight']] = scaler.fit_transform(dataset.loc[:,['Age','KM','HP','CC','Weight']])\n",
    "# print(dataset.info())\n",
    "print('\\n' , dataset.head())\n"
   ],
   "id": "401bb3de9ccdf289",
   "outputs": [
    {
     "name": "stdout",
     "output_type": "stream",
     "text": [
      "\n",
      "      CNG  Diesel  Petrol  Price       Age        KM   HP  MetColor  Automatic  \\\n",
      "0  False    True   False  13500 -1.500000 -0.391935 -1.0         1          0   \n",
      "1  False    True   False  13750 -1.500000  0.205873 -1.0         1          0   \n",
      "2  False    True   False  13950 -1.458333 -0.513450 -1.0         1          0   \n",
      "3  False    True   False  14950 -1.375000 -0.368577 -1.0         0          0   \n",
      "4  False    True   False  13750 -1.208333 -0.587419 -1.0         0          0   \n",
      "\n",
      "    CC  Doors    Weight  \n",
      "0  2.0      3  2.111111  \n",
      "1  2.0      3  2.111111  \n",
      "2  2.0      3  2.111111  \n",
      "3  2.0      3  2.111111  \n",
      "4  2.0      3  2.222222  \n"
     ]
    }
   ],
   "execution_count": 10
  }
 ],
 "metadata": {
  "kernelspec": {
   "display_name": "Python 3",
   "language": "python",
   "name": "python3"
  },
  "language_info": {
   "codemirror_mode": {
    "name": "ipython",
    "version": 2
   },
   "file_extension": ".py",
   "mimetype": "text/x-python",
   "name": "python",
   "nbconvert_exporter": "python",
   "pygments_lexer": "ipython2",
   "version": "2.7.6"
  },
  "colab": {
   "provenance": []
  }
 },
 "nbformat": 4,
 "nbformat_minor": 5
}
