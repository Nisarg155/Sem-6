{
 "cells": [
  {
   "cell_type": "code",
   "id": "initial_id",
   "metadata": {
    "collapsed": true,
    "ExecuteTime": {
     "end_time": "2024-12-15T12:35:21.498145Z",
     "start_time": "2024-12-15T12:35:21.396768Z"
    }
   },
   "source": [
    "# import Libraries\n",
    "import numpy as np\n",
    "import pandas as pd\n",
    "from sklearn.preprocessing import StandardScaler , MinMaxScaler"
   ],
   "outputs": [],
   "execution_count": 2
  },
  {
   "metadata": {
    "ExecuteTime": {
     "end_time": "2024-12-15T12:35:21.539892Z",
     "start_time": "2024-12-15T12:35:21.518933Z"
    }
   },
   "cell_type": "code",
   "source": [
    "# Load csv\n",
    "\n",
    "dataset = pd.read_csv('Data_for_Transformation.csv')\n",
    "print(dataset.head())\n",
    "print(\"\\n\")\n",
    "X_new = dataset.iloc[:,1:3]\n",
    "print(X_new.head())"
   ],
   "id": "63a69167239ce157",
   "outputs": [
    {
     "name": "stdout",
     "output_type": "stream",
     "text": [
      "   Country  Age  Salary Purchased\n",
      "0   France   44   72000        No\n",
      "1    Spain   27   48000       Yes\n",
      "2  Germany   30   54000        No\n",
      "3    Spain   38   61000        No\n",
      "4  Germany   40   68000       Yes\n",
      "\n",
      "\n",
      "   Age  Salary\n",
      "0   44   72000\n",
      "1   27   48000\n",
      "2   30   54000\n",
      "3   38   61000\n",
      "4   40   68000\n"
     ]
    }
   ],
   "execution_count": 3
  },
  {
   "metadata": {
    "ExecuteTime": {
     "end_time": "2024-12-15T12:35:21.610565Z",
     "start_time": "2024-12-15T12:35:21.589561Z"
    }
   },
   "cell_type": "code",
   "source": [
    "# perform scaling\n",
    "\n",
    "std = StandardScaler()\n",
    "X_std = std.fit_transform(X_new)\n",
    "print(X_std)\n",
    "print(\"\\n\")\n",
    "min_max =  MinMaxScaler()\n",
    "X_min_max = min_max.fit_transform(X_new)\n",
    "print(X_min_max)"
   ],
   "id": "2d7b738fd171ad07",
   "outputs": [
    {
     "name": "stdout",
     "output_type": "stream",
     "text": [
      "[[ 0.68188156  0.79548755]\n",
      " [-1.81835082 -1.41513049]\n",
      " [-1.37713334 -0.86247598]\n",
      " [-0.2005534  -0.21771238]\n",
      " [ 0.09359159  0.42705121]\n",
      " [-0.64177088 -0.49403964]\n",
      " [-0.05348091 -1.04669415]\n",
      " [ 1.27017153  1.44025115]\n",
      " [ 1.56431652  1.80868749]\n",
      " [-0.34762589  0.33494213]\n",
      " [ 0.82895405 -0.77036689]]\n",
      "\n",
      "\n",
      "[[0.73913043 0.68571429]\n",
      " [0.         0.        ]\n",
      " [0.13043478 0.17142857]\n",
      " [0.47826087 0.37142857]\n",
      " [0.56521739 0.57142857]\n",
      " [0.34782609 0.28571429]\n",
      " [0.52173913 0.11428571]\n",
      " [0.91304348 0.88571429]\n",
      " [1.         1.        ]\n",
      " [0.43478261 0.54285714]\n",
      " [0.7826087  0.2       ]]\n"
     ]
    }
   ],
   "execution_count": 4
  },
  {
   "metadata": {
    "ExecuteTime": {
     "end_time": "2024-12-15T12:35:21.732131Z",
     "start_time": "2024-12-15T12:35:21.701323Z"
    }
   },
   "cell_type": "code",
   "source": [
    "# Handling Categorical data\n",
    "\n",
    "from sklearn.preprocessing import LabelEncoder , OneHotEncoder\n",
    "\n",
    "dataset = pd.read_csv('Data_for_Categorical_Values.csv')\n",
    "print(dataset.head())\n",
    "print(\"\\n\")\n",
    "print(dataset.describe())"
   ],
   "id": "47ebe11fb7692ddc",
   "outputs": [
    {
     "name": "stdout",
     "output_type": "stream",
     "text": [
      "   Country  Age  Salary Purchased\n",
      "0   France   44   72000        No\n",
      "1    Spain   27   48000       Yes\n",
      "2  Germany   30   54000        No\n",
      "3    Spain   38   61000        No\n",
      "4  Germany   40   68000       Yes\n",
      "\n",
      "\n",
      "             Age        Salary\n",
      "count  11.000000     11.000000\n",
      "mean   39.363636  63363.636364\n",
      "std     7.131237  11386.594989\n",
      "min    27.000000  48000.000000\n",
      "25%    36.000000  54500.000000\n",
      "50%    39.000000  61000.000000\n",
      "75%    44.500000  70000.000000\n",
      "max    50.000000  83000.000000\n"
     ]
    }
   ],
   "execution_count": 5
  },
  {
   "metadata": {
    "ExecuteTime": {
     "end_time": "2024-12-15T12:35:21.802145Z",
     "start_time": "2024-12-15T12:35:21.787552Z"
    }
   },
   "cell_type": "code",
   "source": [
    "inp = dataset.iloc[:,:-1]\n",
    "out = dataset.iloc[:,-1]\n",
    "\n",
    "print(inp)\n",
    "print('\\n')\n",
    "print(out)\n",
    "\n",
    "\n"
   ],
   "id": "beba857106214476",
   "outputs": [
    {
     "name": "stdout",
     "output_type": "stream",
     "text": [
      "    Country  Age  Salary\n",
      "0    France   44   72000\n",
      "1     Spain   27   48000\n",
      "2   Germany   30   54000\n",
      "3     Spain   38   61000\n",
      "4   Germany   40   68000\n",
      "5    France   35   58000\n",
      "6     Spain   39   52000\n",
      "7    France   48   79000\n",
      "8   Germany   50   83000\n",
      "9    France   37   67000\n",
      "10    Spain   45   55000\n",
      "\n",
      "\n",
      "0      No\n",
      "1     Yes\n",
      "2      No\n",
      "3      No\n",
      "4     Yes\n",
      "5     Yes\n",
      "6      No\n",
      "7     Yes\n",
      "8      No\n",
      "9     Yes\n",
      "10     No\n",
      "Name: Purchased, dtype: object\n"
     ]
    }
   ],
   "execution_count": 6
  },
  {
   "metadata": {
    "ExecuteTime": {
     "end_time": "2024-12-15T12:35:21.934532Z",
     "start_time": "2024-12-15T12:35:21.923455Z"
    }
   },
   "cell_type": "code",
   "source": [
    "# convert categorical data into numerical data\n",
    "\n",
    "le = LabelEncoder()\n",
    "inp.iloc[:,0] =  le.fit_transform(inp.iloc[ : ,0])\n",
    "print('\\n')\n",
    "print(inp)"
   ],
   "id": "89ab5cf38299102e",
   "outputs": [
    {
     "name": "stdout",
     "output_type": "stream",
     "text": [
      "\n",
      "\n",
      "   Country  Age  Salary\n",
      "0        0   44   72000\n",
      "1        2   27   48000\n",
      "2        1   30   54000\n",
      "3        2   38   61000\n",
      "4        1   40   68000\n",
      "5        0   35   58000\n",
      "6        2   39   52000\n",
      "7        0   48   79000\n",
      "8        1   50   83000\n",
      "9        0   37   67000\n",
      "10       2   45   55000\n"
     ]
    }
   ],
   "execution_count": 7
  },
  {
   "metadata": {
    "ExecuteTime": {
     "end_time": "2024-12-15T12:35:22.057219Z",
     "start_time": "2024-12-15T12:35:22.032560Z"
    }
   },
   "cell_type": "code",
   "source": [
    "dummy = pd.get_dummies(dataset['Country'])\n",
    "print(dummy.head())\n",
    "print(dataset.head())\n",
    "dataset1 = dataset\n",
    "dataset1 = dataset1.drop(['Country','Purchased'],axis=1)\n",
    "print('\\n')\n",
    "print(dataset1)\n",
    "dataset1 = pd.concat([dummy,dataset1],axis=1)\n",
    "\n",
    "print(dataset1.head())\n"
   ],
   "id": "99b1726f08cf9a70",
   "outputs": [
    {
     "name": "stdout",
     "output_type": "stream",
     "text": [
      "   France  Germany  Spain\n",
      "0    True    False  False\n",
      "1   False    False   True\n",
      "2   False     True  False\n",
      "3   False    False   True\n",
      "4   False     True  False\n",
      "   Country  Age  Salary Purchased\n",
      "0   France   44   72000        No\n",
      "1    Spain   27   48000       Yes\n",
      "2  Germany   30   54000        No\n",
      "3    Spain   38   61000        No\n",
      "4  Germany   40   68000       Yes\n",
      "\n",
      "\n",
      "    Age  Salary\n",
      "0    44   72000\n",
      "1    27   48000\n",
      "2    30   54000\n",
      "3    38   61000\n",
      "4    40   68000\n",
      "5    35   58000\n",
      "6    39   52000\n",
      "7    48   79000\n",
      "8    50   83000\n",
      "9    37   67000\n",
      "10   45   55000\n",
      "   France  Germany  Spain  Age  Salary\n",
      "0    True    False  False   44   72000\n",
      "1   False    False   True   27   48000\n",
      "2   False     True  False   30   54000\n",
      "3   False    False   True   38   61000\n",
      "4   False     True  False   40   68000\n"
     ]
    }
   ],
   "execution_count": 8
  },
  {
   "metadata": {
    "ExecuteTime": {
     "end_time": "2024-12-15T12:35:22.127798Z",
     "start_time": "2024-12-15T12:35:22.117530Z"
    }
   },
   "cell_type": "code",
   "source": [
    "# appy one hot and label encoder\n",
    "\n",
    "onehot = OneHotEncoder()\n",
    "x = onehot.fit_transform(dataset.Country.values.reshape(-1,1)).toarray()\n",
    "print(x)\n"
   ],
   "id": "a989b496901e4692",
   "outputs": [
    {
     "name": "stdout",
     "output_type": "stream",
     "text": [
      "[[1. 0. 0.]\n",
      " [0. 0. 1.]\n",
      " [0. 1. 0.]\n",
      " [0. 0. 1.]\n",
      " [0. 1. 0.]\n",
      " [1. 0. 0.]\n",
      " [0. 0. 1.]\n",
      " [1. 0. 0.]\n",
      " [0. 1. 0.]\n",
      " [1. 0. 0.]\n",
      " [0. 0. 1.]]\n"
     ]
    }
   ],
   "execution_count": 9
  },
  {
   "metadata": {
    "ExecuteTime": {
     "end_time": "2024-12-15T12:35:22.232013Z",
     "start_time": "2024-12-15T12:35:22.217802Z"
    }
   },
   "cell_type": "code",
   "source": [
    "dfOneHot = pd.DataFrame(x, columns = [\"Country_\"+str(int(i)) for i in range(dataset.shape[1]-1)])\n",
    "df = pd.concat([dataset, dfOneHot], axis=1) #column\n",
    "df= df.drop(['Country'], axis=1)\n",
    "#printing to verify\n",
    "print(df.head())"
   ],
   "id": "a75c94b83d60ac42",
   "outputs": [
    {
     "name": "stdout",
     "output_type": "stream",
     "text": [
      "   Age  Salary Purchased  Country_0  Country_1  Country_2\n",
      "0   44   72000        No        1.0        0.0        0.0\n",
      "1   27   48000       Yes        0.0        0.0        1.0\n",
      "2   30   54000        No        0.0        1.0        0.0\n",
      "3   38   61000        No        0.0        0.0        1.0\n",
      "4   40   68000       Yes        0.0        1.0        0.0\n"
     ]
    }
   ],
   "execution_count": 10
  },
  {
   "metadata": {
    "ExecuteTime": {
     "end_time": "2024-12-15T12:35:22.503701Z",
     "start_time": "2024-12-15T12:35:22.294179Z"
    }
   },
   "cell_type": "code",
   "source": [
    "# Handling Missing values\n",
    "from sklearn.impute import SimpleImputer\n",
    "\n",
    "dataset = pd.read_csv('Data_for_Missing_Values.csv')\n",
    "X = dataset.iloc[:,:-1]\n",
    "\n",
    "Y = dataset.iloc[:,-1]\n",
    "dataset1 = dataset\n",
    "dataset1.dropna(axis=0 , how='all',inplace=True)\n",
    "print(dataset1)\n",
    "dataset.dropna(axis=0, how='any',inplace=True)\n",
    "print(dataset)\n",
    "\n",
    "\n"
   ],
   "id": "901fa55415df8bf4",
   "outputs": [
    {
     "name": "stdout",
     "output_type": "stream",
     "text": [
      "    Country   Age   Salary Purchased\n",
      "0    France  44.0  72000.0        No\n",
      "1     Spain  27.0  48000.0       Yes\n",
      "2   Germany  30.0  54000.0        No\n",
      "3     Spain  38.0  61000.0        No\n",
      "5   Germany  40.0      NaN       Yes\n",
      "6    France  35.0  58000.0       Yes\n",
      "7     Spain   NaN  52000.0        No\n",
      "8    France  48.0  79000.0       Yes\n",
      "9   Germany  50.0  83000.0        No\n",
      "10   France  37.0  67000.0       Yes\n",
      "11    Spain  45.0  55000.0        No\n",
      "    Country   Age   Salary Purchased\n",
      "0    France  44.0  72000.0        No\n",
      "1     Spain  27.0  48000.0       Yes\n",
      "2   Germany  30.0  54000.0        No\n",
      "3     Spain  38.0  61000.0        No\n",
      "6    France  35.0  58000.0       Yes\n",
      "8    France  48.0  79000.0       Yes\n",
      "9   Germany  50.0  83000.0        No\n",
      "10   France  37.0  67000.0       Yes\n",
      "11    Spain  45.0  55000.0        No\n"
     ]
    }
   ],
   "execution_count": 11
  },
  {
   "metadata": {
    "ExecuteTime": {
     "end_time": "2024-12-15T12:35:22.561879Z",
     "start_time": "2024-12-15T12:35:22.549139Z"
    }
   },
   "cell_type": "code",
   "source": [
    "updated_df = dataset1\n",
    "updated_df['Age'] = updated_df['Age'].fillna(updated_df['Age'].mean())\n",
    "# updated_df.info()\n",
    "print(\"\\n\")\n",
    "updated_df['Salary'] = updated_df['Salary'].fillna(updated_df['Salary'].mean())\n",
    "# updated_df.info()\n",
    "\n",
    "# updated_df['Country'] = updated_df['Country'].fillna(updated_df['Country'].mode())\n",
    "# updated_df.info()\n",
    "print('\\n')\n",
    "print(updated_df)"
   ],
   "id": "9d03a9bd589fa2da",
   "outputs": [
    {
     "name": "stdout",
     "output_type": "stream",
     "text": [
      "\n",
      "\n",
      "\n",
      "\n",
      "    Country   Age   Salary Purchased\n",
      "0    France  44.0  72000.0        No\n",
      "1     Spain  27.0  48000.0       Yes\n",
      "2   Germany  30.0  54000.0        No\n",
      "3     Spain  38.0  61000.0        No\n",
      "6    France  35.0  58000.0       Yes\n",
      "8    France  48.0  79000.0       Yes\n",
      "9   Germany  50.0  83000.0        No\n",
      "10   France  37.0  67000.0       Yes\n",
      "11    Spain  45.0  55000.0        No\n"
     ]
    }
   ],
   "execution_count": 12
  },
  {
   "metadata": {
    "ExecuteTime": {
     "end_time": "2024-12-15T12:35:22.627454Z",
     "start_time": "2024-12-15T12:35:22.611176Z"
    }
   },
   "cell_type": "code",
   "source": [
    "imputer = SimpleImputer(missing_values=np.nan , strategy='mean')\n",
    "\n",
    "print(dataset)\n",
    "new_X = dataset.iloc[:,:-1].values\n",
    "imputer = imputer.fit(new_X[:,1:3])\n",
    "\n",
    "new_X[:, 1:3 ] = imputer.transform(new_X[:, 1:3])\n",
    "print(new_X)"
   ],
   "id": "e20ccdef7acc1176",
   "outputs": [
    {
     "name": "stdout",
     "output_type": "stream",
     "text": [
      "    Country   Age   Salary Purchased\n",
      "0    France  44.0  72000.0        No\n",
      "1     Spain  27.0  48000.0       Yes\n",
      "2   Germany  30.0  54000.0        No\n",
      "3     Spain  38.0  61000.0        No\n",
      "6    France  35.0  58000.0       Yes\n",
      "8    France  48.0  79000.0       Yes\n",
      "9   Germany  50.0  83000.0        No\n",
      "10   France  37.0  67000.0       Yes\n",
      "11    Spain  45.0  55000.0        No\n",
      "[['France' 44.0 72000.0]\n",
      " ['Spain' 27.0 48000.0]\n",
      " ['Germany' 30.0 54000.0]\n",
      " ['Spain' 38.0 61000.0]\n",
      " ['France' 35.0 58000.0]\n",
      " ['France' 48.0 79000.0]\n",
      " ['Germany' 50.0 83000.0]\n",
      " ['France' 37.0 67000.0]\n",
      " ['Spain' 45.0 55000.0]]\n"
     ]
    }
   ],
   "execution_count": 13
  },
  {
   "metadata": {
    "ExecuteTime": {
     "end_time": "2024-12-15T12:35:23.199003Z",
     "start_time": "2024-12-15T12:35:22.697676Z"
    }
   },
   "cell_type": "code",
   "source": [
    "import seaborn as sns\n",
    "\n",
    "dataset = pd.read_csv('Data_for_Correlation.csv')\n",
    "dataset = dataset.iloc[:,:-1]\n",
    "corr = dataset.corr()\n",
    "print(corr)\n",
    "#why x1 and x2 have not 1.00 as correlation\n",
    "\n",
    "sns.heatmap(corr)\n"
   ],
   "id": "68fa853c2afde49",
   "outputs": [
    {
     "name": "stdout",
     "output_type": "stream",
     "text": [
      "          X1        X2        X3        X4\n",
      "X1  1.000000  0.972714  1.000000  0.263266\n",
      "X2  0.972714  1.000000  0.972714  0.163575\n",
      "X3  1.000000  0.972714  1.000000  0.263266\n",
      "X4  0.263266  0.163575  0.263266  1.000000\n"
     ]
    },
    {
     "data": {
      "text/plain": [
       "<Axes: >"
      ]
     },
     "execution_count": 14,
     "metadata": {},
     "output_type": "execute_result"
    },
    {
     "data": {
      "text/plain": [
       "<Figure size 640x480 with 2 Axes>"
      ],
      "image/png": "[encoded data removed]"
     },
     "metadata": {},
     "output_type": "display_data"
    }
   ],
   "execution_count": 14
  },
  {
   "metadata": {
    "ExecuteTime": {
     "end_time": "2024-12-15T12:35:23.262534Z",
     "start_time": "2024-12-15T12:35:23.249126Z"
    }
   },
   "cell_type": "code",
   "source": [
    "columns = np.full((corr.shape[0],), True, dtype=bool)\n",
    "print(corr.shape)\n",
    "print(columns)\n",
    "for i in range(corr.shape[0]):\n",
    "    for j in range(i+1, corr.shape[0]):\n",
    "      if corr.iloc[i,j] >= 0.9:\n",
    "       if columns[j]:\n",
    "         columns[j] = False\n",
    "\n",
    "print(columns)\n",
    "sel_col = dataset.columns[columns]\n",
    "print(sel_col)\n",
    "dataset = dataset[sel_col]\n",
    "print(dataset)"
   ],
   "id": "d1ffd218e28afeb0",
   "outputs": [
    {
     "name": "stdout",
     "output_type": "stream",
     "text": [
      "(4, 4)\n",
      "[ True  True  True  True]\n",
      "[ True False False  True]\n",
      "Index(['X1', 'X4'], dtype='object')\n",
      "    X1   X4\n",
      "0    1   -2\n",
      "1    2   -4\n",
      "2    3    3\n",
      "3    4    4\n",
      "4    5   25\n",
      "5    6   76\n",
      "6    7   34\n",
      "7    8  346\n",
      "8    9   67\n",
      "9   10    3\n",
      "10  11  355\n",
      "11  12   88\n",
      "12  13    2\n",
      "13  14    1\n"
     ]
    }
   ],
   "execution_count": 15
  }
 ],
 "metadata": {
  "kernelspec": {
   "display_name": "Python 3",
   "language": "python",
   "name": "python3"
  },
  "language_info": {
   "codemirror_mode": {
    "name": "ipython",
    "version": 2
   },
   "file_extension": ".py",
   "mimetype": "text/x-python",
   "name": "python",
   "nbconvert_exporter": "python",
   "pygments_lexer": "ipython2",
   "version": "2.7.6"
  }
 },
 "nbformat": 4,
 "nbformat_minor": 5
}
